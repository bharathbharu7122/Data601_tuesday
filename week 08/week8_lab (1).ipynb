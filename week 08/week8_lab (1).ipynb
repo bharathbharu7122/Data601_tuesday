{
 "cells": [
  {
   "cell_type": "markdown",
   "id": "4653b546",
   "metadata": {
    "id": "FEcJY1uqA2Q9"
   },
   "source": [
    "# Week8 - Lab \n",
    "## Working with Strings\n",
    "\n",
    "[Kaggle ML & Data Science Survey - 2018](https://www.kaggle.com/kaggle/kaggle-survey-2018?select=freeFormResponses.csv)"
   ]
  },
  {
   "cell_type": "code",
   "execution_count": 1,
   "id": "2d390a49",
   "metadata": {
    "colab": {
     "base_uri": "https://localhost:8080/"
    },
    "id": "giFAxWtpGouQ",
    "outputId": "8c56722c-6a81-4ec0-abdf-fbab13caf6fb"
   },
   "outputs": [],
   "source": [
    "import pandas as pd\n",
    "\n",
    "df = pd.read_csv('https://raw.githubusercontent.com/msaricaumbc/DS_Data/master/freeFormResponses.csv', low_memory=False)"
   ]
  },
  {
   "cell_type": "code",
   "execution_count": 2,
   "id": "224182af",
   "metadata": {
    "colab": {
     "base_uri": "https://localhost:8080/",
     "height": 191
    },
    "id": "AOPqS6OMGAfd",
    "outputId": "5c6c48a0-1ea8-45f9-d4ac-a6fc9f8716c0",
    "scrolled": true
   },
   "outputs": [
    {
     "name": "stdout",
     "output_type": "stream",
     "text": [
      "0 Select any activities that make up an important part of your role at work: (Select all that apply) - Other - Text\n",
      "1 What is the primary tool that you use at work or school to analyze data? (include text response) - Other - Text\n",
      "2 What is the primary tool that you use at work or school to analyze data? (include text response) - Basic statistical software (Microsoft Excel, Google Sheets, etc.) - Text\n",
      "3 What is the primary tool that you use at work or school to analyze data? (include text response) - Advanced statistical software (SPSS, SAS, etc.) - Text\n",
      "4 What is the primary tool that you use at work or school to analyze data? (include text response) - Business intelligence software (Salesforce, Tableau, Spotfire, etc.) - Text\n",
      "5 What is the primary tool that you use at work or school to analyze data? (include text response) - Local or hosted development environments (RStudio, JupyterLab, etc.) - Text\n",
      "6 What is the primary tool that you use at work or school to analyze data? (include text response) - Cloud-based data software & APIs (AWS, GCP, Azure, etc.) - Text\n",
      "7 Which of the following integrated development environments (IDE's) have you used at work or school in the last 5 years? (Select all that apply) - Other - Text\n",
      "8 Which of the following hosted notebooks have you used at work or school in the last 5 years? (Select all that apply) - Other - Text\n",
      "9 Which of the following cloud computing services have you used at work or school in the last 5 years? (Select all that apply) - Other - Text\n",
      "10 What programming languages do you use on a regular basis? (Select all that apply) - Other - Text\n",
      "11 What specific programming language do you use most often? - Other - Text\n",
      "12 What programming language would you recommend an aspiring data scientist to learn first? - Other - Text\n",
      "13 What machine learning frameworks have you used in the past 5 years? (Select all that apply) - Other - Text\n",
      "14 What is your gender? - Prefer to self-describe - Text\n",
      "15 Of the choices that you selected in the previous question, which ML library have you used the most? - Other - Text\n",
      "16 What data visualization libraries or tools have you used in the past 5 years? (Select all that apply) - Other - Text\n",
      "17 Of the choices that you selected in the previous question, which specific data visualization library or tool have you used the most? - Other - Text\n",
      "18 Which of the following cloud computing products have you used at work or school in the last 5 years (Select all that apply)? - Other - Text\n",
      "19 Which of the following machine learning products have you used at work or school in the last 5 years? (Select all that apply) - Other - Text\n",
      "20 Which of the following relational database products have you used at work or school in the last 5 years? (Select all that apply) - Other - Text\n",
      "21 Which of the following big data and analytics products have you used at work or school in the last 5 years? (Select all that apply) - Other - Text\n",
      "22 Which types of data do you currently interact with most often at work or school? (Select all that apply) - Other Data - Text\n",
      "23 What is the type of data that you currently interact with most often at work or school? - Other Data - Text\n",
      "24 Where do you find public datasets? (Select all that apply) - Other - Text\n",
      "25 During a typical data science project at work or school, approximately what proportion of your time is devoted to the following? (Answers must add up to 100%) - Other\n",
      "26 What percentage of your current machine learning/data science training falls under each category? (Answers must add up to 100%) - Other - Text\n",
      "27 On which online platforms have you begun or completed data science courses? (Select all that apply) - Other - Text\n",
      "28 On which online platform have you spent the most amount of time? - Other - Text\n",
      "29 Who/what are your favorite media sources that report on data science topics? (Select all that apply) - Other - Text\n",
      "30 What metrics do you or your organization use to determine whether or not your models were successful? (Select all that apply) - Other - Text\n",
      "31 What tools and methods do you use to make your work easy to reproduce? (Select all that apply) - Other - Text\n",
      "32 What barriers prevent you from making your work even easier to reuse and reproduce? (Select all that apply) - Other - Text\n",
      "33 Select the title most similar to your current role (or most recent title if retired): - Other - Text\n",
      "34 In what industry is your current employer/contract (or your most recent employer if retired)? - Other - Text\n"
     ]
    }
   ],
   "source": [
    "for i, question in enumerate(df.loc[0].values):\n",
    "    print(i, question)"
   ]
  },
  {
   "cell_type": "code",
   "execution_count": 3,
   "id": "a5498bcd",
   "metadata": {
    "colab": {
     "base_uri": "https://localhost:8080/",
     "height": 172
    },
    "id": "Bjhqz7x0F-OD",
    "outputId": "8f1c2b3f-901d-40d0-f726-9b8b3a4a46dc",
    "scrolled": true
   },
   "outputs": [
    {
     "data": {
      "text/plain": [
       "Python 3.6                      3\n",
       "Spyder, Jupyter Notebook        3\n",
       "Jupyter Lab                     3\n",
       "py                              3\n",
       "Jupyter Notebook, PyCharm       3\n",
       "Python R                        3\n",
       "R & Python                      3\n",
       "Visual Studio                   3\n",
       "Knime                           3\n",
       "Python & R                      3\n",
       "Studio                          3\n",
       "JupyterNotebooks                3\n",
       "Python,R                        3\n",
       "R, Spyder                       3\n",
       "SQL Server                      3\n",
       "Anaconda Spyder                 3\n",
       "RStudio, JupiterLab             3\n",
       "R Studio, Jupyter               3\n",
       "Jupiter notebooks               3\n",
       "Rstudio, Jupyterlab             3\n",
       "JupyterLab, Jupyter Notebook    3\n",
       "Python, Jupyterlab              3\n",
       "jupyter notebook                3\n",
       "Jupyter Notebook, RStudio       3\n",
       "jupyter-notebook                3\n",
       "RStudio,Anaconda                3\n",
       "JUPYTER                         3\n",
       "IPython                         3\n",
       "IBM Watson Studio               3\n",
       "Rstudio,JupyterLab              3\n",
       "Python, Jupyter Notebooks       3\n",
       "colab                           3\n",
       "PyCharm, Anaconda               3\n",
       "Jupterlab                       3\n",
       "Python ecosystem                3\n",
       "Jupyter, pandas                 3\n",
       "R and python                    3\n",
       "sklearn                         3\n",
       "Jupyter, Spyder                 3\n",
       "RStudio, MATLAB                 3\n",
       "RStudio and python              3\n",
       "Jupyter and Python              3\n",
       "RStudio and Spyder              3\n",
       "Python, Pandas                  3\n",
       "JupyterLab, Pandas              3\n",
       "Local Jupyter                   3\n",
       "RStudio, Jupyterlab             3\n",
       "Python, Matlab                  3\n",
       "SQL                             3\n",
       "r and python                    3\n",
       "Name: Q12_Part_4_TEXT, dtype: int64"
      ]
     },
     "execution_count": 3,
     "metadata": {},
     "output_type": "execute_result"
    }
   ],
   "source": [
    "df.loc[:, 'Q12_Part_4_TEXT'].value_counts().sort_values(ascending =False)[150:200]"
   ]
  },
  {
   "cell_type": "markdown",
   "id": "27d09d31",
   "metadata": {
    "id": "cWWUuWkZGwaN"
   },
   "source": [
    "__Your Task__\n",
    "\n",
    "- In  `Q12_Part_4_TEXT` they ask the tools the participants are using day to day. However as you might observe the answers are not standardized. \n",
    "\n",
    "- Find all the answers with 'jupyter' mentioned in it.\n",
    "\n",
    "- Find all the participant who are Python users.\n",
    "\n",
    "- Find all R users. "
   ]
  },
  {
   "cell_type": "code",
   "execution_count": 4,
   "id": "037ba556",
   "metadata": {},
   "outputs": [],
   "source": [
    "df=df.fillna('')"
   ]
  },
  {
   "cell_type": "code",
   "execution_count": 6,
   "id": "6b609da5",
   "metadata": {},
   "outputs": [
    {
     "data": {
      "text/plain": [
       "6                Python in Notebooks\n",
       "28                            Python\n",
       "60                            Python\n",
       "78                      Python/Julia\n",
       "79                        Python & R\n",
       "                    ...             \n",
       "23801                    python hive\n",
       "23830                         python\n",
       "23837              Python data stack\n",
       "23850    python, pytorch, tensorflow\n",
       "23852                         Python\n",
       "Name: Q12_Part_4_TEXT, Length: 1680, dtype: object"
      ]
     },
     "execution_count": 6,
     "metadata": {},
     "output_type": "execute_result"
    }
   ],
   "source": [
    "df[df['Q12_Part_4_TEXT'].str.contains('\\s,]py\\W+|^py', case=False, regex=True)]['Q12_Part_4_TEXT']"
   ]
  },
  {
   "cell_type": "code",
   "execution_count": 7,
   "id": "3320f243",
   "metadata": {},
   "outputs": [
    {
     "data": {
      "text/plain": [
       "0        What is the primary tool that you use at work ...\n",
       "1                  Jupyter Notebooks, Pycharm, Intelijidea\n",
       "7                                               JupyterLab\n",
       "9                                               Jupyterlab\n",
       "12                            JupyterLab, Jupyter Notebook\n",
       "                               ...                        \n",
       "23825                                          Jupyterlab \n",
       "23836                                              jupyter\n",
       "23847                                              Jupyter\n",
       "23848                                      jupter notebook\n",
       "23857                                  JupyterLab, RStudio\n",
       "Name: Q12_Part_4_TEXT, Length: 4683, dtype: object"
      ]
     },
     "execution_count": 7,
     "metadata": {},
     "output_type": "execute_result"
    }
   ],
   "source": [
    "df[df['Q12_Part_4_TEXT'].str.contains('jup', case=False, regex=True)]['Q12_Part_4_TEXT']"
   ]
  },
  {
   "cell_type": "code",
   "execution_count": 8,
   "id": "cc4610f5",
   "metadata": {},
   "outputs": [
    {
     "data": {
      "text/plain": [
       "0        What is the primary tool that you use at work ...\n",
       "1                  Jupyter Notebooks, Pycharm, Intelijidea\n",
       "6                                      Python in Notebooks\n",
       "10                                                 Rstudio\n",
       "12                            JupyterLab, Jupyter Notebook\n",
       "                               ...                        \n",
       "23850                          python, pytorch, tensorflow\n",
       "23851                                               C++, R\n",
       "23852                                               Python\n",
       "23857                                  JupyterLab, RStudio\n",
       "23859                                     Hadoop, Cloudera\n",
       "Name: Q12_Part_4_TEXT, Length: 6662, dtype: object"
      ]
     },
     "execution_count": 8,
     "metadata": {},
     "output_type": "execute_result"
    }
   ],
   "source": [
    "df[df['Q12_Part_4_TEXT'].str.contains('r[\\s,(st)]|rst|\\sr\\s|[,\\s]|[\\s,]rS|^py', case=False, regex=True)]['Q12_Part_4_TEXT']"
   ]
  },
  {
   "cell_type": "code",
   "execution_count": null,
   "id": "ace3ad78",
   "metadata": {},
   "outputs": [],
   "source": []
  }
 ],
 "metadata": {
  "kernelspec": {
   "display_name": "Python 3 (ipykernel)",
   "language": "python",
   "name": "python3"
  },
  "language_info": {
   "codemirror_mode": {
    "name": "ipython",
    "version": 3
   },
   "file_extension": ".py",
   "mimetype": "text/x-python",
   "name": "python",
   "nbconvert_exporter": "python",
   "pygments_lexer": "ipython3",
   "version": "3.9.7"
  },
  "toc": {
   "base_numbering": 1,
   "nav_menu": {},
   "number_sections": true,
   "sideBar": true,
   "skip_h1_title": false,
   "title_cell": "Table of Contents",
   "title_sidebar": "Contents",
   "toc_cell": false,
   "toc_position": {},
   "toc_section_display": true,
   "toc_window_display": false
  }
 },
 "nbformat": 4,
 "nbformat_minor": 5
}
