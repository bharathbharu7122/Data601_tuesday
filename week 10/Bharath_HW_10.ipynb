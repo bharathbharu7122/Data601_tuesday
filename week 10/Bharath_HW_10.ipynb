{
 "cells": [
  {
   "cell_type": "markdown",
   "metadata": {},
   "source": [
    "# Week 10 Homework\n",
    "\n",
    "Extend the following class and name this class `ModuleLister`\n",
    "\n",
    "This will find all unique modules in your homework and labs."
   ]
  },
  {
   "cell_type": "code",
   "execution_count": 110,
   "metadata": {},
   "outputs": [],
   "source": [
    "### DON'T CHANGE THIS CELL\n",
    "import os\n",
    "\n",
    "class FileProcessor:\n",
    "    \n",
    "    def __init__(self, path, file_types=['.ipynb']):\n",
    "        self.files = self.find_all_files(path, file_types)\n",
    "        print(f'{len(self.files)} file(s) found...')\n",
    "\n",
    "    \n",
    "    def find_all_files(self, path, file_types):\n",
    "        paths = []\n",
    "        for root, dirs, files in os.walk(path):\n",
    "            for file in files:\n",
    "                if any([file.endswith(ft) for ft in file_types]):\n",
    "                    path = os.path.join(root, file)\n",
    "                    # print(path)\n",
    "                    paths.append(path)\n",
    "        return paths\n",
    "    \n",
    "    def read_file(self, file_path, encoding='utf8'):\n",
    "        with open(file_path,encoding=encoding) as f:\n",
    "            return f.read()\n",
    "    \n",
    "    def start(self):\n",
    "        \"\"\"\n",
    "        Entry point for the class\n",
    "        \"\"\"\n",
    "        for file in self.files:\n",
    "            self.process_file(file)\n",
    "        \n",
    "    def process_file(self, file_path):\n",
    "        \"\"\"\n",
    "        abstract method\n",
    "        \"\"\"\n",
    "        raise NotImplemented('process_file method not implemented')"
   ]
  },
  {
   "cell_type": "code",
   "execution_count": 111,
   "metadata": {},
   "outputs": [],
   "source": [
    "class ModuleLister(FileProcessor):\n",
    "    def __init__(self,path):\n",
    "        super().__init__(path)\n",
    "        \n",
    "    def process_file(self, file_path):\n",
    "        proc = processor.read_file(file_path)\n",
    "        string = proc.split(',')\n",
    "        k=0\n",
    "        while k < len(string):\n",
    "            if 'import' in string[k]:\n",
    "                cons = string[k].split('import')\n",
    "                length = len(cons)\n",
    "                print(cons[length-1])\n",
    "            k+=1"
   ]
  },
  {
   "cell_type": "code",
   "execution_count": 112,
   "metadata": {
    "scrolled": true
   },
   "outputs": [
    {
     "name": "stdout",
     "output_type": "stream",
     "text": [
      "17 file(s) found...\n"
     ]
    }
   ],
   "source": [
    "result = ModuleLister(path=r'C:\\Users\\Bharath\\Downloads\\fwdhomeworkandlabfiles') "
   ]
  },
  {
   "cell_type": "code",
   "execution_count": 113,
   "metadata": {
    "scrolled": true
   },
   "outputs": [
    {
     "name": "stdout",
     "output_type": "stream",
     "text": [
      " pandas as pd\\n\"\n",
      " seaborn as sns\\n\"\n",
      " pyplot as plt\\n\"\n",
      " numpy\\n\"\n",
      " numpy as np\\n\"\n",
      " numpy as np\\n\"\n",
      " pandas as pd\\n\"\n",
      " matplotlib.pyplot as plt\\n\"\n",
      " seaborn as sns\"\n",
      "   ]\n",
      "  }\n",
      " random\\n\"\n",
      " choices\\n\"\n",
      " Provider\\n\"\n",
      " Provider\\n\"\n",
      " random \\n\"\n",
      " matplotlib.pyplot as plt\\n\"\n",
      " numpy as np\\n\"\n",
      " choices\\n\"\n",
      " random\\n\"\n",
      " numpy as np\\n\"\n",
      " random\\n\"\n",
      " date\\n\"\n",
      " re\\n\"\n",
      " pandas\\n\"\n",
      " matplotlib.pyplot as plt\\n\"\n",
      " request\\n\"\n",
      " pandas as pd\\n\"\n",
      " csv\\n\"\n",
      " matplotlib.pyplot as plt\\n\"\n",
      " pandas as pd\\n\"\n",
      " csv\\n\"\n",
      " collections\\n\"\n",
      " pandas as pd\"\n",
      "   ]\n",
      "  }\n",
      " re\\n\"\n",
      " pandas as pd\\n\"\n",
      " matplotlib\\n\"\n",
      " matplotlib.pyplot as plt\"\n",
      "   ]\n",
      "  }\n",
      " pandas as pd\\n\"\n",
      " pandas as pd\\n\"\n",
      " matplotlib.pyplot as plt\\n\"\n",
      " pandas as pd\\n\"\n",
      " request\\n\"\n",
      " ZipFile\\n\"\n",
      " pandas as pd\\n\"\n",
      " seaborn as sns\\n\"\n",
      " seaborn as sns\\n\"\n",
      " pandas as pd\\n\"\n",
      " pandas as pd\\n\"\n",
      "ant part of your role at work: (Select all that apply) - Other - Text\\n\"\n",
      " pandas as pd\\n\"\n",
      "ant part of your role at work: (Select all that apply) - Other - Text\\n\"\n"
     ]
    }
   ],
   "source": [
    "result.start()"
   ]
  },
  {
   "cell_type": "code",
   "execution_count": null,
   "metadata": {},
   "outputs": [],
   "source": []
  }
 ],
 "metadata": {
  "kernelspec": {
   "display_name": "Python 3",
   "language": "python",
   "name": "python3"
  },
  "language_info": {
   "codemirror_mode": {
    "name": "ipython",
    "version": 3
   },
   "file_extension": ".py",
   "mimetype": "text/x-python",
   "name": "python",
   "nbconvert_exporter": "python",
   "pygments_lexer": "ipython3",
   "version": "3.8.5"
  },
  "toc": {
   "base_numbering": 1,
   "nav_menu": {},
   "number_sections": true,
   "sideBar": true,
   "skip_h1_title": false,
   "title_cell": "Table of Contents",
   "title_sidebar": "Contents",
   "toc_cell": false,
   "toc_position": {},
   "toc_section_display": true,
   "toc_window_display": false
  },
  "varInspector": {
   "cols": {
    "lenName": 16,
    "lenType": 16,
    "lenVar": 40
   },
   "kernels_config": {
    "python": {
     "delete_cmd_postfix": "",
     "delete_cmd_prefix": "del ",
     "library": "var_list.py",
     "varRefreshCmd": "print(var_dic_list())"
    },
    "r": {
     "delete_cmd_postfix": ") ",
     "delete_cmd_prefix": "rm(",
     "library": "var_list.r",
     "varRefreshCmd": "cat(var_dic_list()) "
    }
   },
   "types_to_exclude": [
    "module",
    "function",
    "builtin_function_or_method",
    "instance",
    "_Feature"
   ],
   "window_display": false
  }
 },
 "nbformat": 4,
 "nbformat_minor": 2
}
