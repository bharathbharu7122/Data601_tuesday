{
 "cells": [
  {
   "cell_type": "markdown",
   "id": "b09aa74c",
   "metadata": {},
   "source": [
    "# DATA EXPLORATORY ANALYSIS FOR CREDIT CARD DATA\n",
    "# Introduction:\n"
   ]
  },
  {
   "cell_type": "markdown",
   "id": "16b49ad7",
   "metadata": {},
   "source": [
    "***This project helps to identify and analyze the trends in the Credit Card usage patterns and the customer's spending patterns. This project can be utilized to derive the business value from the existing data to target the customers so that the retention can be improved. This can also be used for targeted advertising.***"
   ]
  },
  {
   "cell_type": "markdown",
   "id": "3ef40d66",
   "metadata": {},
   "source": [
    "***Importing necessary libraries***"
   ]
  },
  {
   "cell_type": "code",
   "execution_count": 41,
   "id": "caafef8e",
   "metadata": {},
   "outputs": [],
   "source": [
    "import pandas as pd\n",
    "import warnings\n",
    "warnings.filterwarnings(\"ignore\")"
   ]
  },
  {
   "cell_type": "markdown",
   "id": "d7233841",
   "metadata": {},
   "source": [
    "# Source of data:"
   ]
  },
  {
   "cell_type": "markdown",
   "id": "16f2bb6d",
   "metadata": {},
   "source": [
    "***Kaggle(Since it is opensorce, it is legal to use the data for academic purpose)***\n",
    "\n",
    "https://www.kaggle.com/datasets/darpan25bajaj/credit-card-exploratory-data-analysis?select=spend.csv"
   ]
  },
  {
   "cell_type": "markdown",
   "id": "f0981e8c",
   "metadata": {},
   "source": [
    "# Loading Data:"
   ]
  },
  {
   "cell_type": "markdown",
   "id": "204d4028",
   "metadata": {},
   "source": [
    "***Reading the Customer data into dataframe df1***"
   ]
  },
  {
   "cell_type": "code",
   "execution_count": 4,
   "id": "d3ebc656",
   "metadata": {},
   "outputs": [],
   "source": [
    "df1=pd.read_csv('Customer Acqusition.csv')"
   ]
  },
  {
   "cell_type": "markdown",
   "id": "48c84a6a",
   "metadata": {},
   "source": [
    "***Reading the Spend data into dataframe df2***"
   ]
  },
  {
   "cell_type": "code",
   "execution_count": 5,
   "id": "673ba4a7",
   "metadata": {},
   "outputs": [],
   "source": [
    "df2=pd.read_csv('spend.csv')"
   ]
  },
  {
   "cell_type": "markdown",
   "id": "dae47aa5",
   "metadata": {},
   "source": [
    "***Printing the shape of the dataframe df1***"
   ]
  },
  {
   "cell_type": "code",
   "execution_count": 6,
   "id": "070e5bd5",
   "metadata": {},
   "outputs": [
    {
     "data": {
      "text/plain": [
       "(100, 8)"
      ]
     },
     "execution_count": 6,
     "metadata": {},
     "output_type": "execute_result"
    }
   ],
   "source": [
    "df1.shape"
   ]
  },
  {
   "cell_type": "markdown",
   "id": "256856ab",
   "metadata": {},
   "source": [
    "***Printing the shape of the dataframe df2***"
   ]
  },
  {
   "cell_type": "code",
   "execution_count": 7,
   "id": "a18f92ed",
   "metadata": {},
   "outputs": [
    {
     "data": {
      "text/plain": [
       "(1500, 5)"
      ]
     },
     "execution_count": 7,
     "metadata": {},
     "output_type": "execute_result"
    }
   ],
   "source": [
    "df2.shape"
   ]
  },
  {
   "cell_type": "markdown",
   "id": "8382457b",
   "metadata": {},
   "source": [
    "***Printing the first five rows of the dataframe df1***"
   ]
  },
  {
   "cell_type": "code",
   "execution_count": 8,
   "id": "5c56a3bc",
   "metadata": {},
   "outputs": [
    {
     "data": {
      "text/html": [
       "<div>\n",
       "<style scoped>\n",
       "    .dataframe tbody tr th:only-of-type {\n",
       "        vertical-align: middle;\n",
       "    }\n",
       "\n",
       "    .dataframe tbody tr th {\n",
       "        vertical-align: top;\n",
       "    }\n",
       "\n",
       "    .dataframe thead th {\n",
       "        text-align: right;\n",
       "    }\n",
       "</style>\n",
       "<table border=\"1\" class=\"dataframe\">\n",
       "  <thead>\n",
       "    <tr style=\"text-align: right;\">\n",
       "      <th></th>\n",
       "      <th>No</th>\n",
       "      <th>Customer</th>\n",
       "      <th>Age</th>\n",
       "      <th>City</th>\n",
       "      <th>Product</th>\n",
       "      <th>Limit</th>\n",
       "      <th>Company</th>\n",
       "      <th>Segment</th>\n",
       "    </tr>\n",
       "  </thead>\n",
       "  <tbody>\n",
       "    <tr>\n",
       "      <th>0</th>\n",
       "      <td>1</td>\n",
       "      <td>A1</td>\n",
       "      <td>76</td>\n",
       "      <td>BANGALORE</td>\n",
       "      <td>Gold</td>\n",
       "      <td>500000.0</td>\n",
       "      <td>C1</td>\n",
       "      <td>Self Employed</td>\n",
       "    </tr>\n",
       "    <tr>\n",
       "      <th>1</th>\n",
       "      <td>2</td>\n",
       "      <td>A2</td>\n",
       "      <td>71</td>\n",
       "      <td>CALCUTTA</td>\n",
       "      <td>Silver</td>\n",
       "      <td>100000.0</td>\n",
       "      <td>C2</td>\n",
       "      <td>Salaried_MNC</td>\n",
       "    </tr>\n",
       "    <tr>\n",
       "      <th>2</th>\n",
       "      <td>3</td>\n",
       "      <td>A3</td>\n",
       "      <td>34</td>\n",
       "      <td>COCHIN</td>\n",
       "      <td>Platimum</td>\n",
       "      <td>10000.0</td>\n",
       "      <td>C3</td>\n",
       "      <td>Salaried_Pvt</td>\n",
       "    </tr>\n",
       "    <tr>\n",
       "      <th>3</th>\n",
       "      <td>4</td>\n",
       "      <td>A4</td>\n",
       "      <td>47</td>\n",
       "      <td>BOMBAY</td>\n",
       "      <td>Platimum</td>\n",
       "      <td>10001.0</td>\n",
       "      <td>C4</td>\n",
       "      <td>Govt</td>\n",
       "    </tr>\n",
       "    <tr>\n",
       "      <th>4</th>\n",
       "      <td>5</td>\n",
       "      <td>A5</td>\n",
       "      <td>56</td>\n",
       "      <td>BANGALORE</td>\n",
       "      <td>Platimum</td>\n",
       "      <td>10002.0</td>\n",
       "      <td>C5</td>\n",
       "      <td>Normal Salary</td>\n",
       "    </tr>\n",
       "  </tbody>\n",
       "</table>\n",
       "</div>"
      ],
      "text/plain": [
       "   No Customer  Age       City   Product     Limit Company        Segment\n",
       "0   1       A1   76  BANGALORE      Gold  500000.0      C1  Self Employed\n",
       "1   2       A2   71   CALCUTTA    Silver  100000.0      C2   Salaried_MNC\n",
       "2   3       A3   34     COCHIN  Platimum   10000.0      C3   Salaried_Pvt\n",
       "3   4       A4   47     BOMBAY  Platimum   10001.0      C4           Govt\n",
       "4   5       A5   56  BANGALORE  Platimum   10002.0      C5  Normal Salary"
      ]
     },
     "execution_count": 8,
     "metadata": {},
     "output_type": "execute_result"
    }
   ],
   "source": [
    "df1.head()"
   ]
  },
  {
   "cell_type": "markdown",
   "id": "d28984de",
   "metadata": {},
   "source": [
    "***Printing the first five rows of dataframe df2***"
   ]
  },
  {
   "cell_type": "code",
   "execution_count": 9,
   "id": "838cc10d",
   "metadata": {},
   "outputs": [
    {
     "data": {
      "text/html": [
       "<div>\n",
       "<style scoped>\n",
       "    .dataframe tbody tr th:only-of-type {\n",
       "        vertical-align: middle;\n",
       "    }\n",
       "\n",
       "    .dataframe tbody tr th {\n",
       "        vertical-align: top;\n",
       "    }\n",
       "\n",
       "    .dataframe thead th {\n",
       "        text-align: right;\n",
       "    }\n",
       "</style>\n",
       "<table border=\"1\" class=\"dataframe\">\n",
       "  <thead>\n",
       "    <tr style=\"text-align: right;\">\n",
       "      <th></th>\n",
       "      <th>Sl No:</th>\n",
       "      <th>Customer</th>\n",
       "      <th>Month</th>\n",
       "      <th>Type</th>\n",
       "      <th>Amount</th>\n",
       "    </tr>\n",
       "  </thead>\n",
       "  <tbody>\n",
       "    <tr>\n",
       "      <th>0</th>\n",
       "      <td>1</td>\n",
       "      <td>A1</td>\n",
       "      <td>12-Jan-04</td>\n",
       "      <td>JEWELLERY</td>\n",
       "      <td>485470.80</td>\n",
       "    </tr>\n",
       "    <tr>\n",
       "      <th>1</th>\n",
       "      <td>2</td>\n",
       "      <td>A1</td>\n",
       "      <td>3-Jan-04</td>\n",
       "      <td>PETRO</td>\n",
       "      <td>410556.13</td>\n",
       "    </tr>\n",
       "    <tr>\n",
       "      <th>2</th>\n",
       "      <td>3</td>\n",
       "      <td>A1</td>\n",
       "      <td>15-Jan-04</td>\n",
       "      <td>CLOTHES</td>\n",
       "      <td>23740.46</td>\n",
       "    </tr>\n",
       "    <tr>\n",
       "      <th>3</th>\n",
       "      <td>4</td>\n",
       "      <td>A1</td>\n",
       "      <td>25-Jan-04</td>\n",
       "      <td>FOOD</td>\n",
       "      <td>484342.47</td>\n",
       "    </tr>\n",
       "    <tr>\n",
       "      <th>4</th>\n",
       "      <td>5</td>\n",
       "      <td>A1</td>\n",
       "      <td>17-Jan-05</td>\n",
       "      <td>CAMERA</td>\n",
       "      <td>369694.07</td>\n",
       "    </tr>\n",
       "  </tbody>\n",
       "</table>\n",
       "</div>"
      ],
      "text/plain": [
       "   Sl No: Customer      Month       Type     Amount\n",
       "0       1       A1  12-Jan-04  JEWELLERY  485470.80\n",
       "1       2       A1   3-Jan-04      PETRO  410556.13\n",
       "2       3       A1  15-Jan-04    CLOTHES   23740.46\n",
       "3       4       A1  25-Jan-04       FOOD  484342.47\n",
       "4       5       A1  17-Jan-05     CAMERA  369694.07"
      ]
     },
     "execution_count": 9,
     "metadata": {},
     "output_type": "execute_result"
    }
   ],
   "source": [
    "df2.head()"
   ]
  },
  {
   "cell_type": "markdown",
   "id": "226be682",
   "metadata": {},
   "source": [
    "***Number of unique values in dataframe df1***"
   ]
  },
  {
   "cell_type": "code",
   "execution_count": 10,
   "id": "d45258de",
   "metadata": {},
   "outputs": [
    {
     "data": {
      "text/plain": [
       "No          100\n",
       "Customer    100\n",
       "Age          55\n",
       "City          8\n",
       "Product       3\n",
       "Limit         8\n",
       "Company      41\n",
       "Segment       5\n",
       "dtype: int64"
      ]
     },
     "execution_count": 10,
     "metadata": {},
     "output_type": "execute_result"
    }
   ],
   "source": [
    "df1.nunique()"
   ]
  },
  {
   "cell_type": "markdown",
   "id": "6f0b0e39",
   "metadata": {},
   "source": [
    "***Number of unique values in dataframe df2***"
   ]
  },
  {
   "cell_type": "code",
   "execution_count": 11,
   "id": "67dbdcc7",
   "metadata": {},
   "outputs": [
    {
     "data": {
      "text/plain": [
       "Sl No:      1500\n",
       "Customer     100\n",
       "Month         74\n",
       "Type          15\n",
       "Amount      1500\n",
       "dtype: int64"
      ]
     },
     "execution_count": 11,
     "metadata": {},
     "output_type": "execute_result"
    }
   ],
   "source": [
    "df2.nunique()"
   ]
  },
  {
   "cell_type": "markdown",
   "id": "2df2501d",
   "metadata": {},
   "source": [
    "***Merging the dataframes df1 and df2 into df***"
   ]
  },
  {
   "cell_type": "code",
   "execution_count": 12,
   "id": "3b2e606d",
   "metadata": {},
   "outputs": [],
   "source": [
    "df=df1.merge(df2)"
   ]
  },
  {
   "cell_type": "markdown",
   "id": "7e77b70e",
   "metadata": {},
   "source": [
    "***Printing the first five rows of datafarame df***"
   ]
  },
  {
   "cell_type": "code",
   "execution_count": 13,
   "id": "58cbff88",
   "metadata": {},
   "outputs": [
    {
     "data": {
      "text/html": [
       "<div>\n",
       "<style scoped>\n",
       "    .dataframe tbody tr th:only-of-type {\n",
       "        vertical-align: middle;\n",
       "    }\n",
       "\n",
       "    .dataframe tbody tr th {\n",
       "        vertical-align: top;\n",
       "    }\n",
       "\n",
       "    .dataframe thead th {\n",
       "        text-align: right;\n",
       "    }\n",
       "</style>\n",
       "<table border=\"1\" class=\"dataframe\">\n",
       "  <thead>\n",
       "    <tr style=\"text-align: right;\">\n",
       "      <th></th>\n",
       "      <th>No</th>\n",
       "      <th>Customer</th>\n",
       "      <th>Age</th>\n",
       "      <th>City</th>\n",
       "      <th>Product</th>\n",
       "      <th>Limit</th>\n",
       "      <th>Company</th>\n",
       "      <th>Segment</th>\n",
       "      <th>Sl No:</th>\n",
       "      <th>Month</th>\n",
       "      <th>Type</th>\n",
       "      <th>Amount</th>\n",
       "    </tr>\n",
       "  </thead>\n",
       "  <tbody>\n",
       "    <tr>\n",
       "      <th>0</th>\n",
       "      <td>1</td>\n",
       "      <td>A1</td>\n",
       "      <td>76</td>\n",
       "      <td>BANGALORE</td>\n",
       "      <td>Gold</td>\n",
       "      <td>500000.0</td>\n",
       "      <td>C1</td>\n",
       "      <td>Self Employed</td>\n",
       "      <td>1</td>\n",
       "      <td>12-Jan-04</td>\n",
       "      <td>JEWELLERY</td>\n",
       "      <td>485470.80</td>\n",
       "    </tr>\n",
       "    <tr>\n",
       "      <th>1</th>\n",
       "      <td>1</td>\n",
       "      <td>A1</td>\n",
       "      <td>76</td>\n",
       "      <td>BANGALORE</td>\n",
       "      <td>Gold</td>\n",
       "      <td>500000.0</td>\n",
       "      <td>C1</td>\n",
       "      <td>Self Employed</td>\n",
       "      <td>2</td>\n",
       "      <td>3-Jan-04</td>\n",
       "      <td>PETRO</td>\n",
       "      <td>410556.13</td>\n",
       "    </tr>\n",
       "    <tr>\n",
       "      <th>2</th>\n",
       "      <td>1</td>\n",
       "      <td>A1</td>\n",
       "      <td>76</td>\n",
       "      <td>BANGALORE</td>\n",
       "      <td>Gold</td>\n",
       "      <td>500000.0</td>\n",
       "      <td>C1</td>\n",
       "      <td>Self Employed</td>\n",
       "      <td>3</td>\n",
       "      <td>15-Jan-04</td>\n",
       "      <td>CLOTHES</td>\n",
       "      <td>23740.46</td>\n",
       "    </tr>\n",
       "    <tr>\n",
       "      <th>3</th>\n",
       "      <td>1</td>\n",
       "      <td>A1</td>\n",
       "      <td>76</td>\n",
       "      <td>BANGALORE</td>\n",
       "      <td>Gold</td>\n",
       "      <td>500000.0</td>\n",
       "      <td>C1</td>\n",
       "      <td>Self Employed</td>\n",
       "      <td>4</td>\n",
       "      <td>25-Jan-04</td>\n",
       "      <td>FOOD</td>\n",
       "      <td>484342.47</td>\n",
       "    </tr>\n",
       "    <tr>\n",
       "      <th>4</th>\n",
       "      <td>1</td>\n",
       "      <td>A1</td>\n",
       "      <td>76</td>\n",
       "      <td>BANGALORE</td>\n",
       "      <td>Gold</td>\n",
       "      <td>500000.0</td>\n",
       "      <td>C1</td>\n",
       "      <td>Self Employed</td>\n",
       "      <td>5</td>\n",
       "      <td>17-Jan-05</td>\n",
       "      <td>CAMERA</td>\n",
       "      <td>369694.07</td>\n",
       "    </tr>\n",
       "  </tbody>\n",
       "</table>\n",
       "</div>"
      ],
      "text/plain": [
       "   No Customer  Age       City Product     Limit Company        Segment  \\\n",
       "0   1       A1   76  BANGALORE    Gold  500000.0      C1  Self Employed   \n",
       "1   1       A1   76  BANGALORE    Gold  500000.0      C1  Self Employed   \n",
       "2   1       A1   76  BANGALORE    Gold  500000.0      C1  Self Employed   \n",
       "3   1       A1   76  BANGALORE    Gold  500000.0      C1  Self Employed   \n",
       "4   1       A1   76  BANGALORE    Gold  500000.0      C1  Self Employed   \n",
       "\n",
       "   Sl No:      Month       Type     Amount  \n",
       "0       1  12-Jan-04  JEWELLERY  485470.80  \n",
       "1       2   3-Jan-04      PETRO  410556.13  \n",
       "2       3  15-Jan-04    CLOTHES   23740.46  \n",
       "3       4  25-Jan-04       FOOD  484342.47  \n",
       "4       5  17-Jan-05     CAMERA  369694.07  "
      ]
     },
     "execution_count": 13,
     "metadata": {},
     "output_type": "execute_result"
    }
   ],
   "source": [
    "df.head()"
   ]
  },
  {
   "cell_type": "markdown",
   "id": "c16e28a3",
   "metadata": {},
   "source": [
    "  ## Cleaning Data:"
   ]
  },
  {
   "cell_type": "markdown",
   "id": "ade53cef",
   "metadata": {},
   "source": [
    "***Dropping the unwanted columns***"
   ]
  },
  {
   "cell_type": "markdown",
   "id": "97edc700",
   "metadata": {},
   "source": [
    "***Removing the unwanted columns in the dataframe df***"
   ]
  },
  {
   "cell_type": "code",
   "execution_count": 14,
   "id": "43a3f1b1",
   "metadata": {},
   "outputs": [],
   "source": [
    "df=df.drop(['No','Sl No:'], axis=1)"
   ]
  },
  {
   "cell_type": "markdown",
   "id": "23027fa5",
   "metadata": {},
   "source": [
    "***Printing the first five rows of cleaned data***"
   ]
  },
  {
   "cell_type": "code",
   "execution_count": 15,
   "id": "8576e4aa",
   "metadata": {},
   "outputs": [
    {
     "data": {
      "text/html": [
       "<div>\n",
       "<style scoped>\n",
       "    .dataframe tbody tr th:only-of-type {\n",
       "        vertical-align: middle;\n",
       "    }\n",
       "\n",
       "    .dataframe tbody tr th {\n",
       "        vertical-align: top;\n",
       "    }\n",
       "\n",
       "    .dataframe thead th {\n",
       "        text-align: right;\n",
       "    }\n",
       "</style>\n",
       "<table border=\"1\" class=\"dataframe\">\n",
       "  <thead>\n",
       "    <tr style=\"text-align: right;\">\n",
       "      <th></th>\n",
       "      <th>Customer</th>\n",
       "      <th>Age</th>\n",
       "      <th>City</th>\n",
       "      <th>Product</th>\n",
       "      <th>Limit</th>\n",
       "      <th>Company</th>\n",
       "      <th>Segment</th>\n",
       "      <th>Month</th>\n",
       "      <th>Type</th>\n",
       "      <th>Amount</th>\n",
       "    </tr>\n",
       "  </thead>\n",
       "  <tbody>\n",
       "    <tr>\n",
       "      <th>0</th>\n",
       "      <td>A1</td>\n",
       "      <td>76</td>\n",
       "      <td>BANGALORE</td>\n",
       "      <td>Gold</td>\n",
       "      <td>500000.0</td>\n",
       "      <td>C1</td>\n",
       "      <td>Self Employed</td>\n",
       "      <td>12-Jan-04</td>\n",
       "      <td>JEWELLERY</td>\n",
       "      <td>485470.80</td>\n",
       "    </tr>\n",
       "    <tr>\n",
       "      <th>1</th>\n",
       "      <td>A1</td>\n",
       "      <td>76</td>\n",
       "      <td>BANGALORE</td>\n",
       "      <td>Gold</td>\n",
       "      <td>500000.0</td>\n",
       "      <td>C1</td>\n",
       "      <td>Self Employed</td>\n",
       "      <td>3-Jan-04</td>\n",
       "      <td>PETRO</td>\n",
       "      <td>410556.13</td>\n",
       "    </tr>\n",
       "    <tr>\n",
       "      <th>2</th>\n",
       "      <td>A1</td>\n",
       "      <td>76</td>\n",
       "      <td>BANGALORE</td>\n",
       "      <td>Gold</td>\n",
       "      <td>500000.0</td>\n",
       "      <td>C1</td>\n",
       "      <td>Self Employed</td>\n",
       "      <td>15-Jan-04</td>\n",
       "      <td>CLOTHES</td>\n",
       "      <td>23740.46</td>\n",
       "    </tr>\n",
       "    <tr>\n",
       "      <th>3</th>\n",
       "      <td>A1</td>\n",
       "      <td>76</td>\n",
       "      <td>BANGALORE</td>\n",
       "      <td>Gold</td>\n",
       "      <td>500000.0</td>\n",
       "      <td>C1</td>\n",
       "      <td>Self Employed</td>\n",
       "      <td>25-Jan-04</td>\n",
       "      <td>FOOD</td>\n",
       "      <td>484342.47</td>\n",
       "    </tr>\n",
       "    <tr>\n",
       "      <th>4</th>\n",
       "      <td>A1</td>\n",
       "      <td>76</td>\n",
       "      <td>BANGALORE</td>\n",
       "      <td>Gold</td>\n",
       "      <td>500000.0</td>\n",
       "      <td>C1</td>\n",
       "      <td>Self Employed</td>\n",
       "      <td>17-Jan-05</td>\n",
       "      <td>CAMERA</td>\n",
       "      <td>369694.07</td>\n",
       "    </tr>\n",
       "  </tbody>\n",
       "</table>\n",
       "</div>"
      ],
      "text/plain": [
       "  Customer  Age       City Product     Limit Company        Segment  \\\n",
       "0       A1   76  BANGALORE    Gold  500000.0      C1  Self Employed   \n",
       "1       A1   76  BANGALORE    Gold  500000.0      C1  Self Employed   \n",
       "2       A1   76  BANGALORE    Gold  500000.0      C1  Self Employed   \n",
       "3       A1   76  BANGALORE    Gold  500000.0      C1  Self Employed   \n",
       "4       A1   76  BANGALORE    Gold  500000.0      C1  Self Employed   \n",
       "\n",
       "       Month       Type     Amount  \n",
       "0  12-Jan-04  JEWELLERY  485470.80  \n",
       "1   3-Jan-04      PETRO  410556.13  \n",
       "2  15-Jan-04    CLOTHES   23740.46  \n",
       "3  25-Jan-04       FOOD  484342.47  \n",
       "4  17-Jan-05     CAMERA  369694.07  "
      ]
     },
     "execution_count": 15,
     "metadata": {},
     "output_type": "execute_result"
    }
   ],
   "source": [
    "df.head()"
   ]
  },
  {
   "cell_type": "markdown",
   "id": "69fdd5cd",
   "metadata": {},
   "source": [
    "***Printing the size of dataframe df***"
   ]
  },
  {
   "cell_type": "code",
   "execution_count": 16,
   "id": "8a586a7c",
   "metadata": {},
   "outputs": [
    {
     "data": {
      "text/plain": [
       "(1500, 10)"
      ]
     },
     "execution_count": 16,
     "metadata": {},
     "output_type": "execute_result"
    }
   ],
   "source": [
    "df.shape\n"
   ]
  },
  {
   "cell_type": "markdown",
   "id": "ae8ce076",
   "metadata": {},
   "source": [
    "> Observation:\n",
    "\n",
    "Number of rows =1500\n",
    "    \n",
    "Number of columns =10"
   ]
  },
  {
   "cell_type": "markdown",
   "id": "af732977",
   "metadata": {},
   "source": [
    "***Displaying the column names with their datatypes***"
   ]
  },
  {
   "cell_type": "code",
   "execution_count": 17,
   "id": "d70fcb4f",
   "metadata": {},
   "outputs": [
    {
     "name": "stdout",
     "output_type": "stream",
     "text": [
      "<class 'pandas.core.frame.DataFrame'>\n",
      "Int64Index: 1500 entries, 0 to 1499\n",
      "Data columns (total 10 columns):\n",
      " #   Column    Non-Null Count  Dtype  \n",
      "---  ------    --------------  -----  \n",
      " 0   Customer  1500 non-null   object \n",
      " 1   Age       1500 non-null   int64  \n",
      " 2   City      1500 non-null   object \n",
      " 3   Product   1500 non-null   object \n",
      " 4   Limit     1500 non-null   float64\n",
      " 5   Company   1500 non-null   object \n",
      " 6   Segment   1500 non-null   object \n",
      " 7   Month     1500 non-null   object \n",
      " 8   Type      1500 non-null   object \n",
      " 9   Amount    1500 non-null   float64\n",
      "dtypes: float64(2), int64(1), object(7)\n",
      "memory usage: 128.9+ KB\n"
     ]
    }
   ],
   "source": [
    "df.info()"
   ]
  },
  {
   "cell_type": "markdown",
   "id": "6d8e7384",
   "metadata": {},
   "source": [
    "## Sanity checks"
   ]
  },
  {
   "cell_type": "code",
   "execution_count": 18,
   "id": "e39fa919",
   "metadata": {},
   "outputs": [
    {
     "name": "stdout",
     "output_type": "stream",
     "text": [
      "count    1500.000000\n",
      "mean       44.268667\n",
      "std        17.512270\n",
      "min        12.000000\n",
      "25%        28.000000\n",
      "50%        42.000000\n",
      "75%        57.000000\n",
      "max        79.000000\n",
      "Name: Age, dtype: float64\n",
      "count      1500.000000\n",
      "mean     297993.956667\n",
      "std      216239.376333\n",
      "min       10000.000000\n",
      "25%      100000.000000\n",
      "50%      500000.000000\n",
      "75%      500000.000000\n",
      "max      500000.000000\n",
      "Name: Limit, dtype: float64\n",
      "count      1500.000000\n",
      "mean     243096.049460\n",
      "std      141349.547367\n",
      "min         720.300000\n",
      "25%      122606.487500\n",
      "50%      239210.360000\n",
      "75%      361617.632500\n",
      "max      499793.490000\n",
      "Name: Amount, dtype: float64\n"
     ]
    }
   ],
   "source": [
    "for column in df.columns:\n",
    "    if df[column].dtype == 'int64' or df[column].dtype == 'float64':\n",
    "        \n",
    "        print(df[column].describe())"
   ]
  },
  {
   "cell_type": "markdown",
   "id": "155d539f",
   "metadata": {},
   "source": [
    "***Number of unique values in dataframe df***"
   ]
  },
  {
   "cell_type": "code",
   "execution_count": 19,
   "id": "84f09b27",
   "metadata": {},
   "outputs": [
    {
     "data": {
      "text/plain": [
       "Customer     100\n",
       "Age           55\n",
       "City           8\n",
       "Product        3\n",
       "Limit          8\n",
       "Company       41\n",
       "Segment        5\n",
       "Month         74\n",
       "Type          15\n",
       "Amount      1500\n",
       "dtype: int64"
      ]
     },
     "execution_count": 19,
     "metadata": {},
     "output_type": "execute_result"
    }
   ],
   "source": [
    "df.nunique()"
   ]
  },
  {
   "cell_type": "markdown",
   "id": "0d03e279",
   "metadata": {},
   "source": [
    "***There are no null values in the dataframe***"
   ]
  },
  {
   "cell_type": "code",
   "execution_count": 20,
   "id": "df755089",
   "metadata": {},
   "outputs": [
    {
     "data": {
      "text/plain": [
       "Customer    0\n",
       "Age         0\n",
       "City        0\n",
       "Product     0\n",
       "Limit       0\n",
       "Company     0\n",
       "Segment     0\n",
       "Month       0\n",
       "Type        0\n",
       "Amount      0\n",
       "dtype: int64"
      ]
     },
     "execution_count": 20,
     "metadata": {},
     "output_type": "execute_result"
    }
   ],
   "source": [
    "df.isnull().sum()"
   ]
  },
  {
   "cell_type": "markdown",
   "id": "06eb41f5",
   "metadata": {},
   "source": [
    "***viewing the numerical statistical data of the dataframe***\n"
   ]
  },
  {
   "cell_type": "code",
   "execution_count": 21,
   "id": "9873d062",
   "metadata": {},
   "outputs": [
    {
     "data": {
      "text/html": [
       "<div>\n",
       "<style scoped>\n",
       "    .dataframe tbody tr th:only-of-type {\n",
       "        vertical-align: middle;\n",
       "    }\n",
       "\n",
       "    .dataframe tbody tr th {\n",
       "        vertical-align: top;\n",
       "    }\n",
       "\n",
       "    .dataframe thead th {\n",
       "        text-align: right;\n",
       "    }\n",
       "</style>\n",
       "<table border=\"1\" class=\"dataframe\">\n",
       "  <thead>\n",
       "    <tr style=\"text-align: right;\">\n",
       "      <th></th>\n",
       "      <th>Age</th>\n",
       "      <th>Limit</th>\n",
       "      <th>Amount</th>\n",
       "    </tr>\n",
       "  </thead>\n",
       "  <tbody>\n",
       "    <tr>\n",
       "      <th>count</th>\n",
       "      <td>1500.000000</td>\n",
       "      <td>1500.000000</td>\n",
       "      <td>1500.000000</td>\n",
       "    </tr>\n",
       "    <tr>\n",
       "      <th>mean</th>\n",
       "      <td>44.268667</td>\n",
       "      <td>297993.956667</td>\n",
       "      <td>243096.049460</td>\n",
       "    </tr>\n",
       "    <tr>\n",
       "      <th>std</th>\n",
       "      <td>17.512270</td>\n",
       "      <td>216239.376333</td>\n",
       "      <td>141349.547367</td>\n",
       "    </tr>\n",
       "    <tr>\n",
       "      <th>min</th>\n",
       "      <td>12.000000</td>\n",
       "      <td>10000.000000</td>\n",
       "      <td>720.300000</td>\n",
       "    </tr>\n",
       "    <tr>\n",
       "      <th>25%</th>\n",
       "      <td>28.000000</td>\n",
       "      <td>100000.000000</td>\n",
       "      <td>122606.487500</td>\n",
       "    </tr>\n",
       "    <tr>\n",
       "      <th>50%</th>\n",
       "      <td>42.000000</td>\n",
       "      <td>500000.000000</td>\n",
       "      <td>239210.360000</td>\n",
       "    </tr>\n",
       "    <tr>\n",
       "      <th>75%</th>\n",
       "      <td>57.000000</td>\n",
       "      <td>500000.000000</td>\n",
       "      <td>361617.632500</td>\n",
       "    </tr>\n",
       "    <tr>\n",
       "      <th>max</th>\n",
       "      <td>79.000000</td>\n",
       "      <td>500000.000000</td>\n",
       "      <td>499793.490000</td>\n",
       "    </tr>\n",
       "  </tbody>\n",
       "</table>\n",
       "</div>"
      ],
      "text/plain": [
       "               Age          Limit         Amount\n",
       "count  1500.000000    1500.000000    1500.000000\n",
       "mean     44.268667  297993.956667  243096.049460\n",
       "std      17.512270  216239.376333  141349.547367\n",
       "min      12.000000   10000.000000     720.300000\n",
       "25%      28.000000  100000.000000  122606.487500\n",
       "50%      42.000000  500000.000000  239210.360000\n",
       "75%      57.000000  500000.000000  361617.632500\n",
       "max      79.000000  500000.000000  499793.490000"
      ]
     },
     "execution_count": 21,
     "metadata": {},
     "output_type": "execute_result"
    }
   ],
   "source": [
    "df.describe()"
   ]
  },
  {
   "cell_type": "markdown",
   "id": "4202fab8",
   "metadata": {},
   "source": [
    "***viewing statistical details of the dataframe***\n"
   ]
  },
  {
   "cell_type": "code",
   "execution_count": 22,
   "id": "2756c9eb",
   "metadata": {},
   "outputs": [
    {
     "data": {
      "text/html": [
       "<div>\n",
       "<style scoped>\n",
       "    .dataframe tbody tr th:only-of-type {\n",
       "        vertical-align: middle;\n",
       "    }\n",
       "\n",
       "    .dataframe tbody tr th {\n",
       "        vertical-align: top;\n",
       "    }\n",
       "\n",
       "    .dataframe thead th {\n",
       "        text-align: right;\n",
       "    }\n",
       "</style>\n",
       "<table border=\"1\" class=\"dataframe\">\n",
       "  <thead>\n",
       "    <tr style=\"text-align: right;\">\n",
       "      <th></th>\n",
       "      <th>Customer</th>\n",
       "      <th>Age</th>\n",
       "      <th>City</th>\n",
       "      <th>Product</th>\n",
       "      <th>Limit</th>\n",
       "      <th>Company</th>\n",
       "      <th>Segment</th>\n",
       "      <th>Month</th>\n",
       "      <th>Type</th>\n",
       "      <th>Amount</th>\n",
       "    </tr>\n",
       "  </thead>\n",
       "  <tbody>\n",
       "    <tr>\n",
       "      <th>count</th>\n",
       "      <td>1500</td>\n",
       "      <td>1500.000000</td>\n",
       "      <td>1500</td>\n",
       "      <td>1500</td>\n",
       "      <td>1500.000000</td>\n",
       "      <td>1500</td>\n",
       "      <td>1500</td>\n",
       "      <td>1500</td>\n",
       "      <td>1500</td>\n",
       "      <td>1500.000000</td>\n",
       "    </tr>\n",
       "    <tr>\n",
       "      <th>unique</th>\n",
       "      <td>100</td>\n",
       "      <td>NaN</td>\n",
       "      <td>8</td>\n",
       "      <td>3</td>\n",
       "      <td>NaN</td>\n",
       "      <td>41</td>\n",
       "      <td>5</td>\n",
       "      <td>74</td>\n",
       "      <td>15</td>\n",
       "      <td>NaN</td>\n",
       "    </tr>\n",
       "    <tr>\n",
       "      <th>top</th>\n",
       "      <td>A61</td>\n",
       "      <td>NaN</td>\n",
       "      <td>BANGALORE</td>\n",
       "      <td>Gold</td>\n",
       "      <td>NaN</td>\n",
       "      <td>C22</td>\n",
       "      <td>Normal Salary</td>\n",
       "      <td>12-Jan-04</td>\n",
       "      <td>PETRO</td>\n",
       "      <td>NaN</td>\n",
       "    </tr>\n",
       "    <tr>\n",
       "      <th>freq</th>\n",
       "      <td>38</td>\n",
       "      <td>NaN</td>\n",
       "      <td>299</td>\n",
       "      <td>610</td>\n",
       "      <td>NaN</td>\n",
       "      <td>103</td>\n",
       "      <td>441</td>\n",
       "      <td>80</td>\n",
       "      <td>200</td>\n",
       "      <td>NaN</td>\n",
       "    </tr>\n",
       "    <tr>\n",
       "      <th>mean</th>\n",
       "      <td>NaN</td>\n",
       "      <td>44.268667</td>\n",
       "      <td>NaN</td>\n",
       "      <td>NaN</td>\n",
       "      <td>297993.956667</td>\n",
       "      <td>NaN</td>\n",
       "      <td>NaN</td>\n",
       "      <td>NaN</td>\n",
       "      <td>NaN</td>\n",
       "      <td>243096.049460</td>\n",
       "    </tr>\n",
       "    <tr>\n",
       "      <th>std</th>\n",
       "      <td>NaN</td>\n",
       "      <td>17.512270</td>\n",
       "      <td>NaN</td>\n",
       "      <td>NaN</td>\n",
       "      <td>216239.376333</td>\n",
       "      <td>NaN</td>\n",
       "      <td>NaN</td>\n",
       "      <td>NaN</td>\n",
       "      <td>NaN</td>\n",
       "      <td>141349.547367</td>\n",
       "    </tr>\n",
       "    <tr>\n",
       "      <th>min</th>\n",
       "      <td>NaN</td>\n",
       "      <td>12.000000</td>\n",
       "      <td>NaN</td>\n",
       "      <td>NaN</td>\n",
       "      <td>10000.000000</td>\n",
       "      <td>NaN</td>\n",
       "      <td>NaN</td>\n",
       "      <td>NaN</td>\n",
       "      <td>NaN</td>\n",
       "      <td>720.300000</td>\n",
       "    </tr>\n",
       "    <tr>\n",
       "      <th>25%</th>\n",
       "      <td>NaN</td>\n",
       "      <td>28.000000</td>\n",
       "      <td>NaN</td>\n",
       "      <td>NaN</td>\n",
       "      <td>100000.000000</td>\n",
       "      <td>NaN</td>\n",
       "      <td>NaN</td>\n",
       "      <td>NaN</td>\n",
       "      <td>NaN</td>\n",
       "      <td>122606.487500</td>\n",
       "    </tr>\n",
       "    <tr>\n",
       "      <th>50%</th>\n",
       "      <td>NaN</td>\n",
       "      <td>42.000000</td>\n",
       "      <td>NaN</td>\n",
       "      <td>NaN</td>\n",
       "      <td>500000.000000</td>\n",
       "      <td>NaN</td>\n",
       "      <td>NaN</td>\n",
       "      <td>NaN</td>\n",
       "      <td>NaN</td>\n",
       "      <td>239210.360000</td>\n",
       "    </tr>\n",
       "    <tr>\n",
       "      <th>75%</th>\n",
       "      <td>NaN</td>\n",
       "      <td>57.000000</td>\n",
       "      <td>NaN</td>\n",
       "      <td>NaN</td>\n",
       "      <td>500000.000000</td>\n",
       "      <td>NaN</td>\n",
       "      <td>NaN</td>\n",
       "      <td>NaN</td>\n",
       "      <td>NaN</td>\n",
       "      <td>361617.632500</td>\n",
       "    </tr>\n",
       "    <tr>\n",
       "      <th>max</th>\n",
       "      <td>NaN</td>\n",
       "      <td>79.000000</td>\n",
       "      <td>NaN</td>\n",
       "      <td>NaN</td>\n",
       "      <td>500000.000000</td>\n",
       "      <td>NaN</td>\n",
       "      <td>NaN</td>\n",
       "      <td>NaN</td>\n",
       "      <td>NaN</td>\n",
       "      <td>499793.490000</td>\n",
       "    </tr>\n",
       "  </tbody>\n",
       "</table>\n",
       "</div>"
      ],
      "text/plain": [
       "       Customer          Age       City Product          Limit Company  \\\n",
       "count      1500  1500.000000       1500    1500    1500.000000    1500   \n",
       "unique      100          NaN          8       3            NaN      41   \n",
       "top         A61          NaN  BANGALORE    Gold            NaN     C22   \n",
       "freq         38          NaN        299     610            NaN     103   \n",
       "mean        NaN    44.268667        NaN     NaN  297993.956667     NaN   \n",
       "std         NaN    17.512270        NaN     NaN  216239.376333     NaN   \n",
       "min         NaN    12.000000        NaN     NaN   10000.000000     NaN   \n",
       "25%         NaN    28.000000        NaN     NaN  100000.000000     NaN   \n",
       "50%         NaN    42.000000        NaN     NaN  500000.000000     NaN   \n",
       "75%         NaN    57.000000        NaN     NaN  500000.000000     NaN   \n",
       "max         NaN    79.000000        NaN     NaN  500000.000000     NaN   \n",
       "\n",
       "              Segment      Month   Type         Amount  \n",
       "count            1500       1500   1500    1500.000000  \n",
       "unique              5         74     15            NaN  \n",
       "top     Normal Salary  12-Jan-04  PETRO            NaN  \n",
       "freq              441         80    200            NaN  \n",
       "mean              NaN        NaN    NaN  243096.049460  \n",
       "std               NaN        NaN    NaN  141349.547367  \n",
       "min               NaN        NaN    NaN     720.300000  \n",
       "25%               NaN        NaN    NaN  122606.487500  \n",
       "50%               NaN        NaN    NaN  239210.360000  \n",
       "75%               NaN        NaN    NaN  361617.632500  \n",
       "max               NaN        NaN    NaN  499793.490000  "
      ]
     },
     "execution_count": 22,
     "metadata": {},
     "output_type": "execute_result"
    }
   ],
   "source": [
    "df.describe(include = 'all')"
   ]
  },
  {
   "cell_type": "markdown",
   "id": "e8fba4b6",
   "metadata": {},
   "source": [
    "***Retrieving 'year' and 'month' from existing column 'month'***"
   ]
  },
  {
   "cell_type": "code",
   "execution_count": 24,
   "id": "68a32718",
   "metadata": {},
   "outputs": [],
   "source": [
    "df['Spent_Year']=pd.to_datetime(df['Month']).dt.year"
   ]
  },
  {
   "cell_type": "code",
   "execution_count": 25,
   "id": "f87022a7",
   "metadata": {},
   "outputs": [],
   "source": [
    "df['Spent_Month']=pd.to_datetime(df['Month']).dt.month"
   ]
  },
  {
   "cell_type": "markdown",
   "id": "9a4a8bae",
   "metadata": {},
   "source": [
    "***Printing the first five rows of dataframe after conversion of date/time***"
   ]
  },
  {
   "cell_type": "code",
   "execution_count": 26,
   "id": "b39ab780",
   "metadata": {},
   "outputs": [
    {
     "data": {
      "text/html": [
       "<div>\n",
       "<style scoped>\n",
       "    .dataframe tbody tr th:only-of-type {\n",
       "        vertical-align: middle;\n",
       "    }\n",
       "\n",
       "    .dataframe tbody tr th {\n",
       "        vertical-align: top;\n",
       "    }\n",
       "\n",
       "    .dataframe thead th {\n",
       "        text-align: right;\n",
       "    }\n",
       "</style>\n",
       "<table border=\"1\" class=\"dataframe\">\n",
       "  <thead>\n",
       "    <tr style=\"text-align: right;\">\n",
       "      <th></th>\n",
       "      <th>Customer</th>\n",
       "      <th>Age</th>\n",
       "      <th>City</th>\n",
       "      <th>Product</th>\n",
       "      <th>Limit</th>\n",
       "      <th>Company</th>\n",
       "      <th>Segment</th>\n",
       "      <th>Month</th>\n",
       "      <th>Type</th>\n",
       "      <th>Amount</th>\n",
       "      <th>Spent_Year</th>\n",
       "      <th>Spent_Month</th>\n",
       "    </tr>\n",
       "  </thead>\n",
       "  <tbody>\n",
       "    <tr>\n",
       "      <th>0</th>\n",
       "      <td>A1</td>\n",
       "      <td>76</td>\n",
       "      <td>BANGALORE</td>\n",
       "      <td>Gold</td>\n",
       "      <td>500000.0</td>\n",
       "      <td>C1</td>\n",
       "      <td>Self Employed</td>\n",
       "      <td>12-Jan-04</td>\n",
       "      <td>JEWELLERY</td>\n",
       "      <td>485470.80</td>\n",
       "      <td>2004</td>\n",
       "      <td>1</td>\n",
       "    </tr>\n",
       "    <tr>\n",
       "      <th>1</th>\n",
       "      <td>A1</td>\n",
       "      <td>76</td>\n",
       "      <td>BANGALORE</td>\n",
       "      <td>Gold</td>\n",
       "      <td>500000.0</td>\n",
       "      <td>C1</td>\n",
       "      <td>Self Employed</td>\n",
       "      <td>3-Jan-04</td>\n",
       "      <td>PETRO</td>\n",
       "      <td>410556.13</td>\n",
       "      <td>2004</td>\n",
       "      <td>1</td>\n",
       "    </tr>\n",
       "    <tr>\n",
       "      <th>2</th>\n",
       "      <td>A1</td>\n",
       "      <td>76</td>\n",
       "      <td>BANGALORE</td>\n",
       "      <td>Gold</td>\n",
       "      <td>500000.0</td>\n",
       "      <td>C1</td>\n",
       "      <td>Self Employed</td>\n",
       "      <td>15-Jan-04</td>\n",
       "      <td>CLOTHES</td>\n",
       "      <td>23740.46</td>\n",
       "      <td>2004</td>\n",
       "      <td>1</td>\n",
       "    </tr>\n",
       "    <tr>\n",
       "      <th>3</th>\n",
       "      <td>A1</td>\n",
       "      <td>76</td>\n",
       "      <td>BANGALORE</td>\n",
       "      <td>Gold</td>\n",
       "      <td>500000.0</td>\n",
       "      <td>C1</td>\n",
       "      <td>Self Employed</td>\n",
       "      <td>25-Jan-04</td>\n",
       "      <td>FOOD</td>\n",
       "      <td>484342.47</td>\n",
       "      <td>2004</td>\n",
       "      <td>1</td>\n",
       "    </tr>\n",
       "    <tr>\n",
       "      <th>4</th>\n",
       "      <td>A1</td>\n",
       "      <td>76</td>\n",
       "      <td>BANGALORE</td>\n",
       "      <td>Gold</td>\n",
       "      <td>500000.0</td>\n",
       "      <td>C1</td>\n",
       "      <td>Self Employed</td>\n",
       "      <td>17-Jan-05</td>\n",
       "      <td>CAMERA</td>\n",
       "      <td>369694.07</td>\n",
       "      <td>2005</td>\n",
       "      <td>1</td>\n",
       "    </tr>\n",
       "  </tbody>\n",
       "</table>\n",
       "</div>"
      ],
      "text/plain": [
       "  Customer  Age       City Product     Limit Company        Segment  \\\n",
       "0       A1   76  BANGALORE    Gold  500000.0      C1  Self Employed   \n",
       "1       A1   76  BANGALORE    Gold  500000.0      C1  Self Employed   \n",
       "2       A1   76  BANGALORE    Gold  500000.0      C1  Self Employed   \n",
       "3       A1   76  BANGALORE    Gold  500000.0      C1  Self Employed   \n",
       "4       A1   76  BANGALORE    Gold  500000.0      C1  Self Employed   \n",
       "\n",
       "       Month       Type     Amount  Spent_Year  Spent_Month  \n",
       "0  12-Jan-04  JEWELLERY  485470.80        2004            1  \n",
       "1   3-Jan-04      PETRO  410556.13        2004            1  \n",
       "2  15-Jan-04    CLOTHES   23740.46        2004            1  \n",
       "3  25-Jan-04       FOOD  484342.47        2004            1  \n",
       "4  17-Jan-05     CAMERA  369694.07        2005            1  "
      ]
     },
     "execution_count": 26,
     "metadata": {},
     "output_type": "execute_result"
    }
   ],
   "source": [
    "df.head()"
   ]
  },
  {
   "cell_type": "markdown",
   "id": "79ce95c6",
   "metadata": {},
   "source": [
    "# Visualizations:"
   ]
  },
  {
   "cell_type": "markdown",
   "id": "649d88b7",
   "metadata": {},
   "source": [
    "***Importing visualizing libraries***"
   ]
  },
  {
   "cell_type": "code",
   "execution_count": 27,
   "id": "81b45176",
   "metadata": {},
   "outputs": [],
   "source": [
    "import seaborn as sns"
   ]
  },
  {
   "cell_type": "markdown",
   "id": "1d473c04",
   "metadata": {},
   "source": [
    "***Data Visualization of 'spent_year' vs 'count'***"
   ]
  },
  {
   "cell_type": "code",
   "execution_count": 28,
   "id": "1ec29b83",
   "metadata": {},
   "outputs": [
    {
     "data": {
      "text/plain": [
       "<AxesSubplot:xlabel='Spent_Year', ylabel='count'>"
      ]
     },
     "execution_count": 28,
     "metadata": {},
     "output_type": "execute_result"
    },
    {
     "data": {
      "image/png": "[encoded data removed]",
      "text/plain": [
       "<Figure size 432x288 with 1 Axes>"
      ]
     },
     "metadata": {
      "needs_background": "light"
     },
     "output_type": "display_data"
    }
   ],
   "source": [
    "sns.countplot(data=df, x=\"Spent_Year\")"
   ]
  },
  {
   "cell_type": "markdown",
   "id": "b53e8971",
   "metadata": {},
   "source": [
    "Observation: From the graph, we can conclude that year 2006 has maximum count"
   ]
  },
  {
   "cell_type": "markdown",
   "id": "0c127af8",
   "metadata": {},
   "source": [
    "***Data Visualization of 'spent_month' vs 'count'***"
   ]
  },
  {
   "cell_type": "markdown",
   "id": "844f2df0",
   "metadata": {},
   "source": [
    "#### Question: Which month has highest credit card transactions made? "
   ]
  },
  {
   "cell_type": "code",
   "execution_count": 29,
   "id": "c5c911fa",
   "metadata": {},
   "outputs": [
    {
     "data": {
      "text/plain": [
       "<AxesSubplot:xlabel='Spent_Month', ylabel='count'>"
      ]
     },
     "execution_count": 29,
     "metadata": {},
     "output_type": "execute_result"
    },
    {
     "data": {
      "image/png": "[encoded data removed]",
      "text/plain": [
       "<Figure size 432x288 with 1 Axes>"
      ]
     },
     "metadata": {
      "needs_background": "light"
     },
     "output_type": "display_data"
    }
   ],
   "source": [
    "sns.countplot(data=df, x=\"Spent_Month\")"
   ]
  },
  {
   "cell_type": "markdown",
   "id": "94a89f0a",
   "metadata": {},
   "source": [
    "Observation: As we can see in the graph that january has highest credit card transactions and aslo by the end of year the transactions made was gradually decreasing.\n",
    "\n",
    "Answer: From the graph, we can see that january has the highest transactions."
   ]
  },
  {
   "cell_type": "markdown",
   "id": "c5fab293",
   "metadata": {},
   "source": [
    "***Data Visualization of 'company' vs 'count'***"
   ]
  },
  {
   "cell_type": "code",
   "execution_count": 30,
   "id": "93460673",
   "metadata": {},
   "outputs": [
    {
     "data": {
      "text/plain": [
       "<AxesSubplot:xlabel='Company', ylabel='count'>"
      ]
     },
     "execution_count": 30,
     "metadata": {},
     "output_type": "execute_result"
    },
    {
     "data": {
      "image/png": "[encoded data removed]",
      "text/plain": [
       "<Figure size 1440x432 with 1 Axes>"
      ]
     },
     "metadata": {},
     "output_type": "display_data"
    }
   ],
   "source": [
    "sns.set(rc={\"figure.figsize\":(20, 6)})\n",
    "sns.countplot(data=df, x=\"Company\")"
   ]
  },
  {
   "cell_type": "markdown",
   "id": "058652f2",
   "metadata": {},
   "source": [
    "Observation: The graph determines number of employees in a company. C22 has highest number of counts it determines highest number of employees that we can see in the dataset."
   ]
  },
  {
   "cell_type": "markdown",
   "id": "92fe8138",
   "metadata": {},
   "source": [
    "***Data Visualization of 'Spent_Year' vs 'Amount'***"
   ]
  },
  {
   "cell_type": "code",
   "execution_count": 31,
   "id": "db56c113",
   "metadata": {},
   "outputs": [
    {
     "data": {
      "text/plain": [
       "<AxesSubplot:xlabel='Spent_Year', ylabel='Amount'>"
      ]
     },
     "execution_count": 31,
     "metadata": {},
     "output_type": "execute_result"
    },
    {
     "data": {
      "image/png": "[encoded data removed]",
      "text/plain": [
       "<Figure size 1440x432 with 1 Axes>"
      ]
     },
     "metadata": {},
     "output_type": "display_data"
    }
   ],
   "source": [
    "sns.barplot(df['Spent_Year'],df['Amount'])"
   ]
  },
  {
   "cell_type": "markdown",
   "id": "62bc4a31",
   "metadata": {},
   "source": [
    "Observation: It explains that the amount of money spent in each year was almost the same."
   ]
  },
  {
   "cell_type": "markdown",
   "id": "ba2ed84f",
   "metadata": {},
   "source": [
    "***Data Visualization of bar chart of Cities***"
   ]
  },
  {
   "cell_type": "code",
   "execution_count": 32,
   "id": "5f2dce93",
   "metadata": {},
   "outputs": [
    {
     "data": {
      "text/plain": [
       "<AxesSubplot:>"
      ]
     },
     "execution_count": 32,
     "metadata": {},
     "output_type": "execute_result"
    },
    {
     "data": {
      "image/png": "[encoded data removed]",
      "text/plain": [
       "<Figure size 1440x432 with 1 Axes>"
      ]
     },
     "metadata": {},
     "output_type": "display_data"
    }
   ],
   "source": [
    "df['City'].value_counts().plot(kind='barh')"
   ]
  },
  {
   "cell_type": "markdown",
   "id": "361c64d0",
   "metadata": {},
   "source": [
    "Observation: Bangalore and cochin equally has majority number of companies and at the same time delhi and patna has least number of companies"
   ]
  },
  {
   "cell_type": "markdown",
   "id": "1b221db0",
   "metadata": {},
   "source": [
    "***Data Visualization of bar chart of Credit Cards product types***"
   ]
  },
  {
   "cell_type": "code",
   "execution_count": 33,
   "id": "a86c04f5",
   "metadata": {},
   "outputs": [
    {
     "data": {
      "text/plain": [
       "<AxesSubplot:>"
      ]
     },
     "execution_count": 33,
     "metadata": {},
     "output_type": "execute_result"
    },
    {
     "data": {
      "image/png": "[encoded data removed]",
      "text/plain": [
       "<Figure size 1440x432 with 1 Axes>"
      ]
     },
     "metadata": {},
     "output_type": "display_data"
    }
   ],
   "source": [
    "df['Product'].value_counts().plot(kind='barh')"
   ]
  },
  {
   "cell_type": "markdown",
   "id": "5a271c30",
   "metadata": {},
   "source": [
    "Observation: As we can see that majority of the employees are using credit card type as gold and least people are interested towards silver"
   ]
  },
  {
   "cell_type": "markdown",
   "id": "bb3cd18e",
   "metadata": {},
   "source": [
    "***Data Visualization of bar chart of Customer professional segments***"
   ]
  },
  {
   "cell_type": "code",
   "execution_count": 34,
   "id": "82cb6529",
   "metadata": {},
   "outputs": [
    {
     "data": {
      "text/plain": [
       "<AxesSubplot:>"
      ]
     },
     "execution_count": 34,
     "metadata": {},
     "output_type": "execute_result"
    },
    {
     "data": {
      "image/png": "[encoded data removed]",
      "text/plain": [
       "<Figure size 1440x432 with 1 Axes>"
      ]
     },
     "metadata": {},
     "output_type": "display_data"
    }
   ],
   "source": [
    "df['Segment'].value_counts().plot(kind='barh')"
   ]
  },
  {
   "cell_type": "markdown",
   "id": "13ac507f",
   "metadata": {},
   "source": [
    "Obsevation: Majority of the people belongs to the segment of normal salaried\n",
    "followed by government employees and least number of employees are from salaried_MNC."
   ]
  },
  {
   "cell_type": "markdown",
   "id": "1f50e9d0",
   "metadata": {},
   "source": [
    "***Data Visualization of Credit Card Limits***"
   ]
  },
  {
   "cell_type": "code",
   "execution_count": 35,
   "id": "3858323a",
   "metadata": {},
   "outputs": [
    {
     "data": {
      "text/plain": [
       "<AxesSubplot:xlabel='Limit', ylabel='count'>"
      ]
     },
     "execution_count": 35,
     "metadata": {},
     "output_type": "execute_result"
    },
    {
     "data": {
      "image/png": "[encoded data removed]",
      "text/plain": [
       "<Figure size 1440x432 with 1 Axes>"
      ]
     },
     "metadata": {},
     "output_type": "display_data"
    }
   ],
   "source": [
    "sns.countplot(data=df, x=\"Limit\")"
   ]
  },
  {
   "cell_type": "markdown",
   "id": "37fe0d16",
   "metadata": {},
   "source": [
    "Observation: The graph determines credit card limits of employees\n",
    "- most of the employees has limit of 5000000 which is a dominating limit followed by 100003 with close to 100 employees"
   ]
  },
  {
   "cell_type": "markdown",
   "id": "63005c05",
   "metadata": {},
   "source": [
    "***Data Visualization of Number of Customers by cities***"
   ]
  },
  {
   "cell_type": "code",
   "execution_count": 36,
   "id": "c6f81b3f",
   "metadata": {},
   "outputs": [
    {
     "data": {
      "text/plain": [
       "<AxesSubplot:xlabel='City', ylabel='Amount'>"
      ]
     },
     "execution_count": 36,
     "metadata": {},
     "output_type": "execute_result"
    },
    {
     "data": {
      "image/png": "[encoded data removed]",
      "text/plain": [
       "<Figure size 1440x432 with 1 Axes>"
      ]
     },
     "metadata": {},
     "output_type": "display_data"
    }
   ],
   "source": [
    "sns.lineplot(x='City',y='Amount', data =df)\n"
   ]
  },
  {
   "cell_type": "markdown",
   "id": "24ea0681",
   "metadata": {},
   "source": [
    "Observation: As we can observe in the graph that calcutta has more number of customers with least in trivandram\n",
    "- There is a lot of scope for the improvement and demand for the customers.\n",
    "- while patna and chennai has equal number of customers."
   ]
  },
  {
   "cell_type": "markdown",
   "id": "71f0c6b3",
   "metadata": {},
   "source": [
    "***Data Visualization of Product Vs Amount Spend***"
   ]
  },
  {
   "cell_type": "code",
   "execution_count": 37,
   "id": "6fe224fa",
   "metadata": {},
   "outputs": [
    {
     "data": {
      "text/plain": [
       "<AxesSubplot:xlabel='Product', ylabel='Amount'>"
      ]
     },
     "execution_count": 37,
     "metadata": {},
     "output_type": "execute_result"
    },
    {
     "data": {
      "image/png": "[encoded data removed]",
      "text/plain": [
       "<Figure size 1440x432 with 1 Axes>"
      ]
     },
     "metadata": {},
     "output_type": "display_data"
    }
   ],
   "source": [
    "sns.lineplot(x='Product',y='Amount', data =df)\n"
   ]
  },
  {
   "cell_type": "markdown",
   "id": "792adf9d",
   "metadata": {},
   "source": [
    "Observation: As we can see that amount spend using gold credit card was less compared to platinum but in the previous graph employees are intrested in using gold credit cards but the amount spend is more from platinum followed by silver"
   ]
  },
  {
   "cell_type": "markdown",
   "id": "7937b9c8",
   "metadata": {},
   "source": [
    "***Data Visualization of Amount spent by customer segment type***"
   ]
  },
  {
   "cell_type": "code",
   "execution_count": 38,
   "id": "6ec0ebcd",
   "metadata": {},
   "outputs": [
    {
     "data": {
      "text/plain": [
       "<AxesSubplot:xlabel='Segment', ylabel='Amount'>"
      ]
     },
     "execution_count": 38,
     "metadata": {},
     "output_type": "execute_result"
    },
    {
     "data": {
      "image/png": "[encoded data removed]",
      "text/plain": [
       "<Figure size 1440x432 with 1 Axes>"
      ]
     },
     "metadata": {},
     "output_type": "display_data"
    }
   ],
   "source": [
    "sns.lineplot(x='Segment',y='Amount', data =df)\n"
   ]
  },
  {
   "cell_type": "markdown",
   "id": "719a574d",
   "metadata": {},
   "source": [
    "Observation: Even though the normal salaried employees count is more but the spending amount is comparatively less when compared to other segments.\n",
    "- Salaried_pvt segment count is less, spending of the amount is more."
   ]
  },
  {
   "cell_type": "markdown",
   "id": "55875ea9",
   "metadata": {},
   "source": [
    "***Data Visualization of Amount spent by customer segment type and credit card product type***"
   ]
  },
  {
   "cell_type": "code",
   "execution_count": 39,
   "id": "3286b3ec",
   "metadata": {},
   "outputs": [
    {
     "data": {
      "text/plain": [
       "<seaborn.axisgrid.FacetGrid at 0x1e10cae2700>"
      ]
     },
     "execution_count": 39,
     "metadata": {},
     "output_type": "execute_result"
    },
    {
     "data": {
      "image/png": "[encoded data removed]",
      "text/plain": [
       "<Figure size 1080x360 with 3 Axes>"
      ]
     },
     "metadata": {},
     "output_type": "display_data"
    }
   ],
   "source": [
    "import matplotlib.pyplot as plt\n",
    "sns.set(rc={\"figure.figsize\":(30, 6)})\n",
    "sns.catplot(x='Segment',y='Amount', col = 'Product', data=df,kind='bar') \n",
    "#plt.xticks(rotation=90)"
   ]
  },
  {
   "cell_type": "markdown",
   "id": "316ac6b1",
   "metadata": {},
   "source": [
    "Observation: There is a slight difference when compared to product silver and gold from platinum, as we can see salaried_pvt amount is more from product platinum.\n",
    "- But on an average every product has equal number of employees from each segment. "
   ]
  },
  {
   "cell_type": "markdown",
   "id": "5ad651be",
   "metadata": {},
   "source": [
    "## What I learnt"
   ]
  },
  {
   "cell_type": "markdown",
   "id": "85e7052d",
   "metadata": {},
   "source": [
    "~Merging of dataframes<br>\n",
    "~Grouping and plotting data<br>\n",
    "~Extracting Year and Month from date-time format<br>\n",
    "~Learnt various visualization techniques<br>\n",
    "~Learnt various cleaning techniques to effectively present the given data<br>"
   ]
  },
  {
   "cell_type": "code",
   "execution_count": null,
   "id": "44406965",
   "metadata": {},
   "outputs": [],
   "source": []
  }
 ],
 "metadata": {
  "kernelspec": {
   "display_name": "Python 3 (ipykernel)",
   "language": "python",
   "name": "python3"
  },
  "language_info": {
   "codemirror_mode": {
    "name": "ipython",
    "version": 3
   },
   "file_extension": ".py",
   "mimetype": "text/x-python",
   "name": "python",
   "nbconvert_exporter": "python",
   "pygments_lexer": "ipython3",
   "version": "3.9.7"
  }
 },
 "nbformat": 4,
 "nbformat_minor": 5
}
