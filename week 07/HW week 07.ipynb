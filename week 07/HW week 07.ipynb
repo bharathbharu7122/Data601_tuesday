{
 "cells": [
  {
   "cell_type": "markdown",
   "metadata": {},
   "source": [
    "# Homework 7\n"
   ]
  },
  {
   "cell_type": "markdown",
   "metadata": {},
   "source": [
    "You are waiting on some datasets from different teams but the approval process may take some time. \n",
    "\n",
    "You have no intention to wait! You will generate some fake data to get started. \n",
    "\n",
    "Here are some info you expect from the management:\n",
    "* Employees dataset contains employee id, name, lastname, phone, state (~ 10K records) (Use states of US east coast only) \n",
    "* Salary dataset contains employee id, department id, yearly salary\n",
    "* Department dataset contains department id, department name (5-10 departments) \n",
    "\n",
    "Here are the questions expected to be answered:\n",
    "\n",
    "1. Visualize the average salary of each department\n",
    "1. Visualize the total number of employees living in each state for each department\n",
    "1. Visualize salary distribution of different states\n",
    "1. Visualize salary distribution of different departments\n",
    "\n",
    "You can use faker library (but you don't have to): https://faker.readthedocs.io/en/master/\n",
    "\n",
    "`Optional:` \n",
    "\n",
    "Try to make dataframes realistic. \n",
    "* Salary distribution as normal distribution\n",
    "* Salary of different states can be higher for 5-10K compared to other states\n"
   ]
  },
  {
   "cell_type": "code",
   "execution_count": 109,
   "metadata": {},
   "outputs": [],
   "source": [
    "import numpy as np\n",
    "import pandas as pd\n",
    "import matplotlib.pyplot as plt\n",
    "import seaborn as sns"
   ]
  },
  {
   "cell_type": "markdown",
   "metadata": {},
   "source": [
    "## Creating Fake Data"
   ]
  },
  {
   "cell_type": "markdown",
   "metadata": {},
   "source": [
    "### Employee Dataset"
   ]
  },
  {
   "cell_type": "code",
   "execution_count": 44,
   "metadata": {},
   "outputs": [
    {
     "name": "stdout",
     "output_type": "stream",
     "text": [
      "14\n",
      "Length: 10000\n",
      "{'Connecticut', 'Maine', 'Virginia', 'New Jersey', 'South Carolina', 'Massachusetts', 'Florida', 'Georgia', 'Delaware', 'North Carolina', 'Maryland', 'Rhode Island', 'New York', 'New Hampshire'}\n",
      "14\n"
     ]
    }
   ],
   "source": [
    "## state\n",
    "\n",
    "import random\n",
    "from random import choices\n",
    "\n",
    "east_states_list = ['Maine', 'New Hampshire', 'Massachusetts', 'Rhode Island', 'Connecticut', 'New York', 'New Jersey', 'Delaware', 'Maryland', 'Virginia', 'North Carolina', 'South Carolina', 'Georgia', 'Florida']\n",
    "print(len(east_states_list))\n",
    "\n",
    "east_states = choices(east_states_list, k=10000)\n",
    "print('Length:', len(east_states))\n",
    "print(set(east_states))\n",
    "print(len(set(east_states)))"
   ]
  },
  {
   "cell_type": "code",
   "execution_count": 45,
   "metadata": {},
   "outputs": [
    {
     "name": "stdout",
     "output_type": "stream",
     "text": [
      "Maine 666\n",
      "New Hampshire 723\n",
      "Massachusetts 755\n",
      "Rhode Island 707\n",
      "Connecticut 698\n",
      "New York 673\n",
      "New Jersey 759\n",
      "Delaware 721\n",
      "Maryland 700\n",
      "Virginia 735\n",
      "North Carolina 698\n",
      "South Carolina 756\n",
      "Georgia 711\n",
      "Florida 698\n"
     ]
    }
   ],
   "source": [
    "for e in east_states_list:\n",
    "    print(e, east_states.count(e))"
   ]
  },
  {
   "cell_type": "code",
   "execution_count": 55,
   "metadata": {},
   "outputs": [
    {
     "name": "stdout",
     "output_type": "stream",
     "text": [
      "10000\n"
     ]
    },
    {
     "data": {
      "text/plain": [
       "[38690, 22916, 31692, 58847, 30666]"
      ]
     },
     "execution_count": 55,
     "metadata": {},
     "output_type": "execute_result"
    }
   ],
   "source": [
    "## employee id\n",
    "\n",
    "eid = random.sample(range(10001,99999),10000)\n",
    "eid\n",
    "print(len(set(eid)))\n",
    "eid[:5]"
   ]
  },
  {
   "cell_type": "code",
   "execution_count": 104,
   "metadata": {},
   "outputs": [
    {
     "name": "stdout",
     "output_type": "stream",
     "text": [
      "10000\n"
     ]
    },
    {
     "data": {
      "text/plain": [
       "[71957282, 14285155, 51955137, 25856254, 48393034]"
      ]
     },
     "execution_count": 104,
     "metadata": {},
     "output_type": "execute_result"
    }
   ],
   "source": [
    "# phone\n",
    "\n",
    "ph = random.sample(range(10000001,99999999),10000)\n",
    "ph\n",
    "print(len(set(ph)))\n",
    "ph[:5]"
   ]
  },
  {
   "cell_type": "code",
   "execution_count": 58,
   "metadata": {},
   "outputs": [
    {
     "name": "stdout",
     "output_type": "stream",
     "text": [
      "Collecting Faker\n",
      "  Downloading Faker-13.3.4-py3-none-any.whl (1.5 MB)\n",
      "Requirement already satisfied: python-dateutil>=2.4 in c:\\users\\yuvateja\\anaconda3\\lib\\site-packages (from Faker) (2.8.1)\n",
      "Requirement already satisfied: six>=1.5 in c:\\users\\yuvateja\\anaconda3\\lib\\site-packages (from python-dateutil>=2.4->Faker) (1.15.0)\n",
      "Installing collected packages: Faker\n",
      "Successfully installed Faker-13.3.4\n"
     ]
    }
   ],
   "source": [
    "!pip install Faker"
   ]
  },
  {
   "cell_type": "code",
   "execution_count": 97,
   "metadata": {},
   "outputs": [
    {
     "name": "stdout",
     "output_type": "stream",
     "text": [
      "6824\n",
      "['Konner', 'Lesly', 'Herman', 'Seward', 'Meghann']\n",
      "3176\n",
      "['Jerusha', 'Addison', 'Noreen', 'Grafton', 'Colby']\n"
     ]
    }
   ],
   "source": [
    "# name\n",
    "\n",
    "from faker.providers.person.en import Provider\n",
    "\n",
    "fnames = list(set(Provider.first_names))\n",
    "\n",
    "random.seed(44)\n",
    "random.shuffle(fnames)\n",
    "\n",
    "print(len(fnames))\n",
    "print(fnames[:5])\n",
    "\n",
    "fnames_2 = list(set(Provider.first_names))[:10000-6824]\n",
    "\n",
    "random.seed(42)\n",
    "random.shuffle(fnames_2)\n",
    "\n",
    "print(len(fnames_2))\n",
    "print(fnames_2[:5])"
   ]
  },
  {
   "cell_type": "code",
   "execution_count": 98,
   "metadata": {},
   "outputs": [
    {
     "name": "stdout",
     "output_type": "stream",
     "text": [
      "10000\n",
      "['Heidi', 'Alexus', 'Elsa', 'Celia', 'Marcelo']\n"
     ]
    }
   ],
   "source": [
    "fnames.extend(fnames_2)\n",
    "random.shuffle(fnames)\n",
    "\n",
    "print(len(fnames))\n",
    "print(fnames[:5])"
   ]
  },
  {
   "cell_type": "code",
   "execution_count": 103,
   "metadata": {},
   "outputs": [
    {
     "name": "stdout",
     "output_type": "stream",
     "text": [
      "473\n",
      "['Heidi', 'Alexus', 'Elsa', 'Celia', 'Marcelo']\n",
      "10000\n"
     ]
    },
    {
     "data": {
      "text/plain": [
       "['Tromp', \"D'Amore\", 'Halvorson', 'Berge', 'Torp']"
      ]
     },
     "execution_count": 103,
     "metadata": {},
     "output_type": "execute_result"
    }
   ],
   "source": [
    "# lastname\n",
    "\n",
    "from faker.providers.person.en import Provider\n",
    "\n",
    "lnames_list = list(Provider.last_names)\n",
    "\n",
    "random.seed(44)\n",
    "random.shuffle(lnames_list)\n",
    "\n",
    "print(len(lnames_list))\n",
    "print(fnames[:5])\n",
    "\n",
    "lnames = lnames_list*30\n",
    "lnames = lnames[:10000]\n",
    "random.shuffle(lnames)\n",
    "print(len(lnames))\n",
    "lnames[:5]"
   ]
  },
  {
   "cell_type": "code",
   "execution_count": null,
   "metadata": {},
   "outputs": [],
   "source": [
    "fnames.extend(fnames_2)\n",
    "random.shuffle(fnames)\n",
    "\n",
    "print(len(fnames))\n",
    "print(fnames[:5])"
   ]
  },
  {
   "cell_type": "code",
   "execution_count": 108,
   "metadata": {},
   "outputs": [
    {
     "name": "stdout",
     "output_type": "stream",
     "text": [
      "length: 10000 unique: 10000\n",
      "length: 10000 unique: 6824\n",
      "length: 10000 unique: 473\n",
      "length: 10000 unique: 10000\n",
      "length: 10000 unique: 14\n"
     ]
    }
   ],
   "source": [
    "for e in [eid, fnames, lnames, ph, east_states]:\n",
    "    print('length:', len(e), 'unique:', len(set(e)))"
   ]
  },
  {
   "cell_type": "code",
   "execution_count": 111,
   "metadata": {},
   "outputs": [
    {
     "data": {
      "text/html": [
       "<div>\n",
       "<style scoped>\n",
       "    .dataframe tbody tr th:only-of-type {\n",
       "        vertical-align: middle;\n",
       "    }\n",
       "\n",
       "    .dataframe tbody tr th {\n",
       "        vertical-align: top;\n",
       "    }\n",
       "\n",
       "    .dataframe thead th {\n",
       "        text-align: right;\n",
       "    }\n",
       "</style>\n",
       "<table border=\"1\" class=\"dataframe\">\n",
       "  <thead>\n",
       "    <tr style=\"text-align: right;\">\n",
       "      <th></th>\n",
       "      <th>employee id</th>\n",
       "      <th>name</th>\n",
       "      <th>lastname</th>\n",
       "      <th>phone</th>\n",
       "      <th>state</th>\n",
       "    </tr>\n",
       "  </thead>\n",
       "  <tbody>\n",
       "    <tr>\n",
       "      <th>0</th>\n",
       "      <td>38690</td>\n",
       "      <td>Heidi</td>\n",
       "      <td>Tromp</td>\n",
       "      <td>71957282</td>\n",
       "      <td>Rhode Island</td>\n",
       "    </tr>\n",
       "    <tr>\n",
       "      <th>1</th>\n",
       "      <td>22916</td>\n",
       "      <td>Alexus</td>\n",
       "      <td>D'Amore</td>\n",
       "      <td>14285155</td>\n",
       "      <td>New Hampshire</td>\n",
       "    </tr>\n",
       "    <tr>\n",
       "      <th>2</th>\n",
       "      <td>31692</td>\n",
       "      <td>Elsa</td>\n",
       "      <td>Halvorson</td>\n",
       "      <td>51955137</td>\n",
       "      <td>Maine</td>\n",
       "    </tr>\n",
       "    <tr>\n",
       "      <th>3</th>\n",
       "      <td>58847</td>\n",
       "      <td>Celia</td>\n",
       "      <td>Berge</td>\n",
       "      <td>25856254</td>\n",
       "      <td>Delaware</td>\n",
       "    </tr>\n",
       "    <tr>\n",
       "      <th>4</th>\n",
       "      <td>30666</td>\n",
       "      <td>Marcelo</td>\n",
       "      <td>Torp</td>\n",
       "      <td>48393034</td>\n",
       "      <td>Massachusetts</td>\n",
       "    </tr>\n",
       "  </tbody>\n",
       "</table>\n",
       "</div>"
      ],
      "text/plain": [
       "   employee id     name   lastname     phone          state\n",
       "0        38690    Heidi      Tromp  71957282   Rhode Island\n",
       "1        22916   Alexus    D'Amore  14285155  New Hampshire\n",
       "2        31692     Elsa  Halvorson  51955137          Maine\n",
       "3        58847    Celia      Berge  25856254       Delaware\n",
       "4        30666  Marcelo       Torp  48393034  Massachusetts"
      ]
     },
     "execution_count": 111,
     "metadata": {},
     "output_type": "execute_result"
    }
   ],
   "source": [
    "## Employee Dataframe\n",
    "\n",
    "df_emp = pd.DataFrame({'employee id':eid, 'name':fnames, 'lastname':lnames, 'phone':ph, 'state':east_states})\n",
    "df_emp.head()"
   ]
  },
  {
   "cell_type": "code",
   "execution_count": 119,
   "metadata": {},
   "outputs": [
    {
     "name": "stdout",
     "output_type": "stream",
     "text": [
      "10000\n"
     ]
    },
    {
     "data": {
      "text/plain": [
       "employee id    0\n",
       "name           0\n",
       "lastname       0\n",
       "phone          0\n",
       "state          0\n",
       "dtype: int64"
      ]
     },
     "execution_count": 119,
     "metadata": {},
     "output_type": "execute_result"
    }
   ],
   "source": [
    "print(len(df_emp))\n",
    "df_emp.isnull().sum()"
   ]
  },
  {
   "cell_type": "markdown",
   "metadata": {},
   "source": [
    "### Salary Dataset"
   ]
  },
  {
   "cell_type": "code",
   "execution_count": 122,
   "metadata": {},
   "outputs": [
    {
     "name": "stdout",
     "output_type": "stream",
     "text": [
      "10000\n"
     ]
    },
    {
     "data": {
      "text/plain": [
       "[4, 2, 2, 1, 3]"
      ]
     },
     "execution_count": 122,
     "metadata": {},
     "output_type": "execute_result"
    }
   ],
   "source": [
    "## department ID\n",
    "\n",
    "dept_id = [random.randint(1,7) for e in range(10000)]\n",
    "\n",
    "print(len(dept_id))\n",
    "dept_id[:5]"
   ]
  },
  {
   "cell_type": "code",
   "execution_count": 121,
   "metadata": {},
   "outputs": [
    {
     "name": "stdout",
     "output_type": "stream",
     "text": [
      "10000\n"
     ]
    },
    {
     "data": {
      "text/plain": [
       "[207836, 74110, 137541, 90443, 91140]"
      ]
     },
     "execution_count": 121,
     "metadata": {},
     "output_type": "execute_result"
    }
   ],
   "source": [
    "## salary anually \n",
    "\n",
    "salary_list = [random.randint(50000,214000) for e in range(10000)]\n",
    "\n",
    "print(len(salary_list))\n",
    "salary_list[:5]"
   ]
  },
  {
   "cell_type": "code",
   "execution_count": 128,
   "metadata": {},
   "outputs": [
    {
     "data": {
      "text/html": [
       "<div>\n",
       "<style scoped>\n",
       "    .dataframe tbody tr th:only-of-type {\n",
       "        vertical-align: middle;\n",
       "    }\n",
       "\n",
       "    .dataframe tbody tr th {\n",
       "        vertical-align: top;\n",
       "    }\n",
       "\n",
       "    .dataframe thead th {\n",
       "        text-align: right;\n",
       "    }\n",
       "</style>\n",
       "<table border=\"1\" class=\"dataframe\">\n",
       "  <thead>\n",
       "    <tr style=\"text-align: right;\">\n",
       "      <th></th>\n",
       "      <th>employee id</th>\n",
       "      <th>department id</th>\n",
       "      <th>yearly salary</th>\n",
       "    </tr>\n",
       "  </thead>\n",
       "  <tbody>\n",
       "    <tr>\n",
       "      <th>0</th>\n",
       "      <td>38690</td>\n",
       "      <td>4</td>\n",
       "      <td>207836</td>\n",
       "    </tr>\n",
       "    <tr>\n",
       "      <th>1</th>\n",
       "      <td>22916</td>\n",
       "      <td>2</td>\n",
       "      <td>74110</td>\n",
       "    </tr>\n",
       "    <tr>\n",
       "      <th>2</th>\n",
       "      <td>31692</td>\n",
       "      <td>2</td>\n",
       "      <td>137541</td>\n",
       "    </tr>\n",
       "    <tr>\n",
       "      <th>3</th>\n",
       "      <td>58847</td>\n",
       "      <td>1</td>\n",
       "      <td>90443</td>\n",
       "    </tr>\n",
       "    <tr>\n",
       "      <th>4</th>\n",
       "      <td>30666</td>\n",
       "      <td>3</td>\n",
       "      <td>91140</td>\n",
       "    </tr>\n",
       "  </tbody>\n",
       "</table>\n",
       "</div>"
      ],
      "text/plain": [
       "   employee id  department id  yearly salary\n",
       "0        38690              4         207836\n",
       "1        22916              2          74110\n",
       "2        31692              2         137541\n",
       "3        58847              1          90443\n",
       "4        30666              3          91140"
      ]
     },
     "execution_count": 128,
     "metadata": {},
     "output_type": "execute_result"
    }
   ],
   "source": [
    "df_salary = pd.DataFrame({'employee id':eid, 'department id':dept_id, 'yearly salary':salary_list})\n",
    "df_salary.head()"
   ]
  },
  {
   "cell_type": "code",
   "execution_count": 129,
   "metadata": {},
   "outputs": [
    {
     "name": "stdout",
     "output_type": "stream",
     "text": [
      "10000\n"
     ]
    },
    {
     "data": {
      "text/plain": [
       "employee id      0\n",
       "department id    0\n",
       "yearly salary    0\n",
       "dtype: int64"
      ]
     },
     "execution_count": 129,
     "metadata": {},
     "output_type": "execute_result"
    }
   ],
   "source": [
    "print(len(df_salary))\n",
    "df_salary.isnull().sum()"
   ]
  },
  {
   "cell_type": "code",
   "execution_count": 130,
   "metadata": {},
   "outputs": [
    {
     "data": {
      "text/plain": [
       "array([4, 2, 1, 3, 5, 7, 6], dtype=int64)"
      ]
     },
     "execution_count": 130,
     "metadata": {},
     "output_type": "execute_result"
    }
   ],
   "source": [
    "df_salary['department id'].unique()"
   ]
  },
  {
   "cell_type": "markdown",
   "metadata": {},
   "source": [
    "### Department Dataset"
   ]
  },
  {
   "cell_type": "code",
   "execution_count": 133,
   "metadata": {},
   "outputs": [
    {
     "data": {
      "text/html": [
       "<div>\n",
       "<style scoped>\n",
       "    .dataframe tbody tr th:only-of-type {\n",
       "        vertical-align: middle;\n",
       "    }\n",
       "\n",
       "    .dataframe tbody tr th {\n",
       "        vertical-align: top;\n",
       "    }\n",
       "\n",
       "    .dataframe thead th {\n",
       "        text-align: right;\n",
       "    }\n",
       "</style>\n",
       "<table border=\"1\" class=\"dataframe\">\n",
       "  <thead>\n",
       "    <tr style=\"text-align: right;\">\n",
       "      <th></th>\n",
       "      <th>department id</th>\n",
       "    </tr>\n",
       "  </thead>\n",
       "  <tbody>\n",
       "    <tr>\n",
       "      <th>0</th>\n",
       "      <td>1</td>\n",
       "    </tr>\n",
       "    <tr>\n",
       "      <th>1</th>\n",
       "      <td>2</td>\n",
       "    </tr>\n",
       "    <tr>\n",
       "      <th>2</th>\n",
       "      <td>3</td>\n",
       "    </tr>\n",
       "    <tr>\n",
       "      <th>3</th>\n",
       "      <td>4</td>\n",
       "    </tr>\n",
       "    <tr>\n",
       "      <th>4</th>\n",
       "      <td>5</td>\n",
       "    </tr>\n",
       "    <tr>\n",
       "      <th>5</th>\n",
       "      <td>6</td>\n",
       "    </tr>\n",
       "    <tr>\n",
       "      <th>6</th>\n",
       "      <td>7</td>\n",
       "    </tr>\n",
       "  </tbody>\n",
       "</table>\n",
       "</div>"
      ],
      "text/plain": [
       "   department id\n",
       "0              1\n",
       "1              2\n",
       "2              3\n",
       "3              4\n",
       "4              5\n",
       "5              6\n",
       "6              7"
      ]
     },
     "execution_count": 133,
     "metadata": {},
     "output_type": "execute_result"
    }
   ],
   "source": [
    "df_dept = pd.DataFrame({'department id':list(range(1,8))})\n",
    "df_dept"
   ]
  },
  {
   "cell_type": "code",
   "execution_count": 135,
   "metadata": {},
   "outputs": [],
   "source": [
    "dept_dict = {1:'HR', 2:'IT', 3:'Finance', 4:'Procurement', 4:'Sales', 5:'Marketing', 6:'Admin', 7:'Services'}\n",
    "\n",
    "df_dept['department name'] = df_dept['department id'].map(dept_dict)"
   ]
  },
  {
   "cell_type": "code",
   "execution_count": 136,
   "metadata": {},
   "outputs": [
    {
     "data": {
      "text/html": [
       "<div>\n",
       "<style scoped>\n",
       "    .dataframe tbody tr th:only-of-type {\n",
       "        vertical-align: middle;\n",
       "    }\n",
       "\n",
       "    .dataframe tbody tr th {\n",
       "        vertical-align: top;\n",
       "    }\n",
       "\n",
       "    .dataframe thead th {\n",
       "        text-align: right;\n",
       "    }\n",
       "</style>\n",
       "<table border=\"1\" class=\"dataframe\">\n",
       "  <thead>\n",
       "    <tr style=\"text-align: right;\">\n",
       "      <th></th>\n",
       "      <th>department id</th>\n",
       "      <th>department name</th>\n",
       "    </tr>\n",
       "  </thead>\n",
       "  <tbody>\n",
       "    <tr>\n",
       "      <th>0</th>\n",
       "      <td>1</td>\n",
       "      <td>HR</td>\n",
       "    </tr>\n",
       "    <tr>\n",
       "      <th>1</th>\n",
       "      <td>2</td>\n",
       "      <td>IT</td>\n",
       "    </tr>\n",
       "    <tr>\n",
       "      <th>2</th>\n",
       "      <td>3</td>\n",
       "      <td>Finance</td>\n",
       "    </tr>\n",
       "    <tr>\n",
       "      <th>3</th>\n",
       "      <td>4</td>\n",
       "      <td>Sales</td>\n",
       "    </tr>\n",
       "    <tr>\n",
       "      <th>4</th>\n",
       "      <td>5</td>\n",
       "      <td>Marketing</td>\n",
       "    </tr>\n",
       "    <tr>\n",
       "      <th>5</th>\n",
       "      <td>6</td>\n",
       "      <td>Admin</td>\n",
       "    </tr>\n",
       "    <tr>\n",
       "      <th>6</th>\n",
       "      <td>7</td>\n",
       "      <td>Services</td>\n",
       "    </tr>\n",
       "  </tbody>\n",
       "</table>\n",
       "</div>"
      ],
      "text/plain": [
       "   department id department name\n",
       "0              1              HR\n",
       "1              2              IT\n",
       "2              3         Finance\n",
       "3              4           Sales\n",
       "4              5       Marketing\n",
       "5              6           Admin\n",
       "6              7        Services"
      ]
     },
     "execution_count": 136,
     "metadata": {},
     "output_type": "execute_result"
    }
   ],
   "source": [
    "df_dept"
   ]
  },
  {
   "cell_type": "markdown",
   "metadata": {},
   "source": [
    "## Questions"
   ]
  },
  {
   "cell_type": "raw",
   "metadata": {},
   "source": [
    "Data Frames\n",
    "1. df_emp\n",
    "2. df_salary\n",
    "3. df_dept"
   ]
  },
  {
   "cell_type": "markdown",
   "metadata": {},
   "source": [
    "#### 1. Visualize the average salary of each department"
   ]
  },
  {
   "cell_type": "code",
   "execution_count": 138,
   "metadata": {},
   "outputs": [
    {
     "data": {
      "text/plain": [
       "Index(['employee id', 'department id', 'yearly salary'], dtype='object')"
      ]
     },
     "execution_count": 138,
     "metadata": {},
     "output_type": "execute_result"
    }
   ],
   "source": [
    "df_salary.columns"
   ]
  },
  {
   "cell_type": "code",
   "execution_count": 146,
   "metadata": {},
   "outputs": [
    {
     "data": {
      "text/html": [
       "<div>\n",
       "<style scoped>\n",
       "    .dataframe tbody tr th:only-of-type {\n",
       "        vertical-align: middle;\n",
       "    }\n",
       "\n",
       "    .dataframe tbody tr th {\n",
       "        vertical-align: top;\n",
       "    }\n",
       "\n",
       "    .dataframe thead th {\n",
       "        text-align: right;\n",
       "    }\n",
       "</style>\n",
       "<table border=\"1\" class=\"dataframe\">\n",
       "  <thead>\n",
       "    <tr style=\"text-align: right;\">\n",
       "      <th></th>\n",
       "      <th>employee id</th>\n",
       "      <th>department id</th>\n",
       "      <th>yearly salary</th>\n",
       "      <th>department name</th>\n",
       "    </tr>\n",
       "  </thead>\n",
       "  <tbody>\n",
       "    <tr>\n",
       "      <th>0</th>\n",
       "      <td>38690</td>\n",
       "      <td>4</td>\n",
       "      <td>207836</td>\n",
       "      <td>Sales</td>\n",
       "    </tr>\n",
       "    <tr>\n",
       "      <th>1</th>\n",
       "      <td>22916</td>\n",
       "      <td>2</td>\n",
       "      <td>74110</td>\n",
       "      <td>IT</td>\n",
       "    </tr>\n",
       "    <tr>\n",
       "      <th>2</th>\n",
       "      <td>31692</td>\n",
       "      <td>2</td>\n",
       "      <td>137541</td>\n",
       "      <td>IT</td>\n",
       "    </tr>\n",
       "    <tr>\n",
       "      <th>3</th>\n",
       "      <td>58847</td>\n",
       "      <td>1</td>\n",
       "      <td>90443</td>\n",
       "      <td>HR</td>\n",
       "    </tr>\n",
       "    <tr>\n",
       "      <th>4</th>\n",
       "      <td>30666</td>\n",
       "      <td>3</td>\n",
       "      <td>91140</td>\n",
       "      <td>Finance</td>\n",
       "    </tr>\n",
       "  </tbody>\n",
       "</table>\n",
       "</div>"
      ],
      "text/plain": [
       "   employee id  department id  yearly salary department name\n",
       "0        38690              4         207836           Sales\n",
       "1        22916              2          74110              IT\n",
       "2        31692              2         137541              IT\n",
       "3        58847              1          90443              HR\n",
       "4        30666              3          91140         Finance"
      ]
     },
     "execution_count": 146,
     "metadata": {},
     "output_type": "execute_result"
    }
   ],
   "source": [
    "df_q1 = pd.merge(df_salary, df_dept, how='left', on='department id')\n",
    "df_q1.head()"
   ]
  },
  {
   "cell_type": "code",
   "execution_count": 149,
   "metadata": {},
   "outputs": [
    {
     "data": {
      "image/png": "[encoded data removed]",
      "text/plain": [
       "<Figure size 504x360 with 1 Axes>"
      ]
     },
     "metadata": {
      "needs_background": "light"
     },
     "output_type": "display_data"
    }
   ],
   "source": [
    "plt.figure(figsize=(7,5))\n",
    "\n",
    "sns.barplot(data=df_q1, x='department name', y='yearly salary')\n",
    "plt.title('Average Salary Over Departments')\n",
    "plt.show()"
   ]
  },
  {
   "cell_type": "code",
   "execution_count": null,
   "metadata": {},
   "outputs": [],
   "source": [
    "## We can see almost similar salaries for all departments, with department admin having slightly higher salary\n",
    "## compared to other departments and department Sales having slightly lower salary compared to other departments"
   ]
  },
  {
   "cell_type": "markdown",
   "metadata": {},
   "source": [
    "#### 2. Visualize the total number of employees living in each state for each department"
   ]
  },
  {
   "cell_type": "code",
   "execution_count": 153,
   "metadata": {},
   "outputs": [
    {
     "data": {
      "text/plain": [
       "Index(['employee id', 'name', 'lastname', 'phone', 'state'], dtype='object')"
      ]
     },
     "execution_count": 153,
     "metadata": {},
     "output_type": "execute_result"
    }
   ],
   "source": [
    "df_emp.columns"
   ]
  },
  {
   "cell_type": "code",
   "execution_count": 152,
   "metadata": {},
   "outputs": [
    {
     "data": {
      "text/html": [
       "<div>\n",
       "<style scoped>\n",
       "    .dataframe tbody tr th:only-of-type {\n",
       "        vertical-align: middle;\n",
       "    }\n",
       "\n",
       "    .dataframe tbody tr th {\n",
       "        vertical-align: top;\n",
       "    }\n",
       "\n",
       "    .dataframe thead th {\n",
       "        text-align: right;\n",
       "    }\n",
       "</style>\n",
       "<table border=\"1\" class=\"dataframe\">\n",
       "  <thead>\n",
       "    <tr style=\"text-align: right;\">\n",
       "      <th></th>\n",
       "      <th>employee id</th>\n",
       "      <th>department id</th>\n",
       "      <th>yearly salary</th>\n",
       "      <th>department name</th>\n",
       "    </tr>\n",
       "  </thead>\n",
       "  <tbody>\n",
       "    <tr>\n",
       "      <th>0</th>\n",
       "      <td>38690</td>\n",
       "      <td>4</td>\n",
       "      <td>207836</td>\n",
       "      <td>Sales</td>\n",
       "    </tr>\n",
       "    <tr>\n",
       "      <th>1</th>\n",
       "      <td>22916</td>\n",
       "      <td>2</td>\n",
       "      <td>74110</td>\n",
       "      <td>IT</td>\n",
       "    </tr>\n",
       "    <tr>\n",
       "      <th>2</th>\n",
       "      <td>31692</td>\n",
       "      <td>2</td>\n",
       "      <td>137541</td>\n",
       "      <td>IT</td>\n",
       "    </tr>\n",
       "    <tr>\n",
       "      <th>3</th>\n",
       "      <td>58847</td>\n",
       "      <td>1</td>\n",
       "      <td>90443</td>\n",
       "      <td>HR</td>\n",
       "    </tr>\n",
       "    <tr>\n",
       "      <th>4</th>\n",
       "      <td>30666</td>\n",
       "      <td>3</td>\n",
       "      <td>91140</td>\n",
       "      <td>Finance</td>\n",
       "    </tr>\n",
       "  </tbody>\n",
       "</table>\n",
       "</div>"
      ],
      "text/plain": [
       "   employee id  department id  yearly salary department name\n",
       "0        38690              4         207836           Sales\n",
       "1        22916              2          74110              IT\n",
       "2        31692              2         137541              IT\n",
       "3        58847              1          90443              HR\n",
       "4        30666              3          91140         Finance"
      ]
     },
     "execution_count": 152,
     "metadata": {},
     "output_type": "execute_result"
    }
   ],
   "source": [
    "df_q21 = pd.merge(df_salary, df_dept, how='left', on='department id')\n",
    "df_q21.head()"
   ]
  },
  {
   "cell_type": "code",
   "execution_count": 154,
   "metadata": {},
   "outputs": [
    {
     "data": {
      "text/html": [
       "<div>\n",
       "<style scoped>\n",
       "    .dataframe tbody tr th:only-of-type {\n",
       "        vertical-align: middle;\n",
       "    }\n",
       "\n",
       "    .dataframe tbody tr th {\n",
       "        vertical-align: top;\n",
       "    }\n",
       "\n",
       "    .dataframe thead th {\n",
       "        text-align: right;\n",
       "    }\n",
       "</style>\n",
       "<table border=\"1\" class=\"dataframe\">\n",
       "  <thead>\n",
       "    <tr style=\"text-align: right;\">\n",
       "      <th></th>\n",
       "      <th>employee id</th>\n",
       "      <th>department id</th>\n",
       "      <th>yearly salary</th>\n",
       "      <th>department name</th>\n",
       "      <th>state</th>\n",
       "    </tr>\n",
       "  </thead>\n",
       "  <tbody>\n",
       "    <tr>\n",
       "      <th>0</th>\n",
       "      <td>38690</td>\n",
       "      <td>4</td>\n",
       "      <td>207836</td>\n",
       "      <td>Sales</td>\n",
       "      <td>Rhode Island</td>\n",
       "    </tr>\n",
       "    <tr>\n",
       "      <th>1</th>\n",
       "      <td>22916</td>\n",
       "      <td>2</td>\n",
       "      <td>74110</td>\n",
       "      <td>IT</td>\n",
       "      <td>New Hampshire</td>\n",
       "    </tr>\n",
       "    <tr>\n",
       "      <th>2</th>\n",
       "      <td>31692</td>\n",
       "      <td>2</td>\n",
       "      <td>137541</td>\n",
       "      <td>IT</td>\n",
       "      <td>Maine</td>\n",
       "    </tr>\n",
       "    <tr>\n",
       "      <th>3</th>\n",
       "      <td>58847</td>\n",
       "      <td>1</td>\n",
       "      <td>90443</td>\n",
       "      <td>HR</td>\n",
       "      <td>Delaware</td>\n",
       "    </tr>\n",
       "    <tr>\n",
       "      <th>4</th>\n",
       "      <td>30666</td>\n",
       "      <td>3</td>\n",
       "      <td>91140</td>\n",
       "      <td>Finance</td>\n",
       "      <td>Massachusetts</td>\n",
       "    </tr>\n",
       "  </tbody>\n",
       "</table>\n",
       "</div>"
      ],
      "text/plain": [
       "   employee id  department id  yearly salary department name          state\n",
       "0        38690              4         207836           Sales   Rhode Island\n",
       "1        22916              2          74110              IT  New Hampshire\n",
       "2        31692              2         137541              IT          Maine\n",
       "3        58847              1          90443              HR       Delaware\n",
       "4        30666              3          91140         Finance  Massachusetts"
      ]
     },
     "execution_count": 154,
     "metadata": {},
     "output_type": "execute_result"
    }
   ],
   "source": [
    "df_q2 = pd.merge(df_q21, df_emp[['employee id', 'state']], how='left', on='employee id')\n",
    "df_q2.head()"
   ]
  },
  {
   "cell_type": "code",
   "execution_count": 182,
   "metadata": {},
   "outputs": [
    {
     "data": {
      "text/plain": [
       "array(['Rhode Island', 'New Hampshire', 'Maine', 'Delaware',\n",
       "       'Massachusetts', 'North Carolina', 'New Jersey', 'Florida',\n",
       "       'Virginia', 'Connecticut', 'New York', 'Maryland',\n",
       "       'South Carolina', 'Georgia'], dtype=object)"
      ]
     },
     "execution_count": 182,
     "metadata": {},
     "output_type": "execute_result"
    }
   ],
   "source": [
    "df_q2['state'].unique()"
   ]
  },
  {
   "cell_type": "code",
   "execution_count": 212,
   "metadata": {},
   "outputs": [
    {
     "data": {
      "text/html": [
       "<div>\n",
       "<style scoped>\n",
       "    .dataframe tbody tr th:only-of-type {\n",
       "        vertical-align: middle;\n",
       "    }\n",
       "\n",
       "    .dataframe tbody tr th {\n",
       "        vertical-align: top;\n",
       "    }\n",
       "\n",
       "    .dataframe thead th {\n",
       "        text-align: right;\n",
       "    }\n",
       "</style>\n",
       "<table border=\"1\" class=\"dataframe\">\n",
       "  <thead>\n",
       "    <tr style=\"text-align: right;\">\n",
       "      <th></th>\n",
       "      <th></th>\n",
       "      <th>employee id</th>\n",
       "      <th>yearly salary</th>\n",
       "      <th>department name</th>\n",
       "    </tr>\n",
       "    <tr>\n",
       "      <th>state</th>\n",
       "      <th>department id</th>\n",
       "      <th></th>\n",
       "      <th></th>\n",
       "      <th></th>\n",
       "    </tr>\n",
       "  </thead>\n",
       "  <tbody>\n",
       "    <tr>\n",
       "      <th rowspan=\"7\" valign=\"top\">Delaware</th>\n",
       "      <th>1</th>\n",
       "      <td>106</td>\n",
       "      <td>106</td>\n",
       "      <td>106</td>\n",
       "    </tr>\n",
       "    <tr>\n",
       "      <th>2</th>\n",
       "      <td>107</td>\n",
       "      <td>107</td>\n",
       "      <td>107</td>\n",
       "    </tr>\n",
       "    <tr>\n",
       "      <th>3</th>\n",
       "      <td>115</td>\n",
       "      <td>115</td>\n",
       "      <td>115</td>\n",
       "    </tr>\n",
       "    <tr>\n",
       "      <th>4</th>\n",
       "      <td>100</td>\n",
       "      <td>100</td>\n",
       "      <td>100</td>\n",
       "    </tr>\n",
       "    <tr>\n",
       "      <th>5</th>\n",
       "      <td>98</td>\n",
       "      <td>98</td>\n",
       "      <td>98</td>\n",
       "    </tr>\n",
       "    <tr>\n",
       "      <th>6</th>\n",
       "      <td>93</td>\n",
       "      <td>93</td>\n",
       "      <td>93</td>\n",
       "    </tr>\n",
       "    <tr>\n",
       "      <th>7</th>\n",
       "      <td>102</td>\n",
       "      <td>102</td>\n",
       "      <td>102</td>\n",
       "    </tr>\n",
       "    <tr>\n",
       "      <th rowspan=\"7\" valign=\"top\">Maine</th>\n",
       "      <th>1</th>\n",
       "      <td>92</td>\n",
       "      <td>92</td>\n",
       "      <td>92</td>\n",
       "    </tr>\n",
       "    <tr>\n",
       "      <th>2</th>\n",
       "      <td>94</td>\n",
       "      <td>94</td>\n",
       "      <td>94</td>\n",
       "    </tr>\n",
       "    <tr>\n",
       "      <th>3</th>\n",
       "      <td>81</td>\n",
       "      <td>81</td>\n",
       "      <td>81</td>\n",
       "    </tr>\n",
       "    <tr>\n",
       "      <th>4</th>\n",
       "      <td>98</td>\n",
       "      <td>98</td>\n",
       "      <td>98</td>\n",
       "    </tr>\n",
       "    <tr>\n",
       "      <th>5</th>\n",
       "      <td>89</td>\n",
       "      <td>89</td>\n",
       "      <td>89</td>\n",
       "    </tr>\n",
       "    <tr>\n",
       "      <th>6</th>\n",
       "      <td>99</td>\n",
       "      <td>99</td>\n",
       "      <td>99</td>\n",
       "    </tr>\n",
       "    <tr>\n",
       "      <th>7</th>\n",
       "      <td>113</td>\n",
       "      <td>113</td>\n",
       "      <td>113</td>\n",
       "    </tr>\n",
       "  </tbody>\n",
       "</table>\n",
       "</div>"
      ],
      "text/plain": [
       "                        employee id  yearly salary  department name\n",
       "state    department id                                             \n",
       "Delaware 1                      106            106              106\n",
       "         2                      107            107              107\n",
       "         3                      115            115              115\n",
       "         4                      100            100              100\n",
       "         5                       98             98               98\n",
       "         6                       93             93               93\n",
       "         7                      102            102              102\n",
       "Maine    1                       92             92               92\n",
       "         2                       94             94               94\n",
       "         3                       81             81               81\n",
       "         4                       98             98               98\n",
       "         5                       89             89               89\n",
       "         6                       99             99               99\n",
       "         7                      113            113              113"
      ]
     },
     "execution_count": 212,
     "metadata": {},
     "output_type": "execute_result"
    }
   ],
   "source": [
    "data=df_q2[(df_q2['state'] == 'Rhode Island') | (df_q2['state'] == 'New Hampshire') | \n",
    "                       (df_q2['state'] == 'Maine') |(df_q2['state'] == 'Delaware') | \n",
    "                       (df_q2['state'] == 'Massachusetts')].groupby(['state','department id']).count()\n",
    "data.loc['Delaware':'Maine']"
   ]
  },
  {
   "cell_type": "code",
   "execution_count": 219,
   "metadata": {},
   "outputs": [
    {
     "data": {
      "text/plain": [
       "<Figure size 504x720 with 0 Axes>"
      ]
     },
     "metadata": {},
     "output_type": "display_data"
    },
    {
     "data": {
      "image/png": "[encoded data removed]",
      "text/plain": [
       "<Figure size 458.25x360 with 1 Axes>"
      ]
     },
     "metadata": {
      "needs_background": "light"
     },
     "output_type": "display_data"
    }
   ],
   "source": [
    "plt.figure(figsize=(7,10))\n",
    "\n",
    "sns.catplot(y='state', hue='department name', kind='count', edgecolor='0.7',\n",
    "            palette='pastel',\n",
    "            data=df_q2[(df_q2['state'] == 'Rhode Island') | (df_q2['state'] == 'New Hampshire') | \n",
    "                       (df_q2['state'] == 'Maine') |(df_q2['state'] == 'Delaware') | \n",
    "                       (df_q2['state'] == 'Massachusetts') | (df_q2['state'] == 'North Carolina') | \n",
    "                       (df_q2['state'] == 'New Jersey')])\n",
    "plt.title('Total number of employees Living in each state for each department')\n",
    "\n",
    "plt.show()"
   ]
  },
  {
   "cell_type": "code",
   "execution_count": 221,
   "metadata": {},
   "outputs": [
    {
     "data": {
      "text/plain": [
       "<Figure size 504x720 with 0 Axes>"
      ]
     },
     "metadata": {},
     "output_type": "display_data"
    },
    {
     "data": {
      "image/png": "[encoded data removed]",
      "text/plain": [
       "<Figure size 458.25x360 with 1 Axes>"
      ]
     },
     "metadata": {
      "needs_background": "light"
     },
     "output_type": "display_data"
    }
   ],
   "source": [
    "plt.figure(figsize=(7,10))\n",
    "\n",
    "sns.catplot(y='state', hue='department name', kind='count', edgecolor='0.7',\n",
    "            palette='pastel',\n",
    "            data=df_q2[(df_q2['state'] == 'Florida') |\n",
    "                (df_q2['state'] == 'Virginia') | (df_q2['state'] == 'Connecticut') | \n",
    "                       (df_q2['state'] == 'New York') | (df_q2['state'] == 'Maryland') | \n",
    "                       (df_q2['state'] == 'South Carolina') |\n",
    "      (df_q2['state'] == 'Georgia')])\n",
    "plt.title('Total number of employees Living in each state for each department')\n",
    "\n",
    "plt.show()"
   ]
  },
  {
   "cell_type": "markdown",
   "metadata": {},
   "source": [
    "#### 3. Visualize salary distribution of different states"
   ]
  },
  {
   "cell_type": "code",
   "execution_count": 225,
   "metadata": {},
   "outputs": [
    {
     "data": {
      "text/html": [
       "<div>\n",
       "<style scoped>\n",
       "    .dataframe tbody tr th:only-of-type {\n",
       "        vertical-align: middle;\n",
       "    }\n",
       "\n",
       "    .dataframe tbody tr th {\n",
       "        vertical-align: top;\n",
       "    }\n",
       "\n",
       "    .dataframe thead th {\n",
       "        text-align: right;\n",
       "    }\n",
       "</style>\n",
       "<table border=\"1\" class=\"dataframe\">\n",
       "  <thead>\n",
       "    <tr style=\"text-align: right;\">\n",
       "      <th></th>\n",
       "      <th>employee id</th>\n",
       "      <th>name</th>\n",
       "      <th>lastname</th>\n",
       "      <th>phone</th>\n",
       "      <th>state</th>\n",
       "      <th>department id</th>\n",
       "      <th>yearly salary</th>\n",
       "    </tr>\n",
       "  </thead>\n",
       "  <tbody>\n",
       "    <tr>\n",
       "      <th>0</th>\n",
       "      <td>38690</td>\n",
       "      <td>Heidi</td>\n",
       "      <td>Tromp</td>\n",
       "      <td>71957282</td>\n",
       "      <td>Rhode Island</td>\n",
       "      <td>4</td>\n",
       "      <td>207836</td>\n",
       "    </tr>\n",
       "    <tr>\n",
       "      <th>1</th>\n",
       "      <td>22916</td>\n",
       "      <td>Alexus</td>\n",
       "      <td>D'Amore</td>\n",
       "      <td>14285155</td>\n",
       "      <td>New Hampshire</td>\n",
       "      <td>2</td>\n",
       "      <td>74110</td>\n",
       "    </tr>\n",
       "    <tr>\n",
       "      <th>2</th>\n",
       "      <td>31692</td>\n",
       "      <td>Elsa</td>\n",
       "      <td>Halvorson</td>\n",
       "      <td>51955137</td>\n",
       "      <td>Maine</td>\n",
       "      <td>2</td>\n",
       "      <td>137541</td>\n",
       "    </tr>\n",
       "    <tr>\n",
       "      <th>3</th>\n",
       "      <td>58847</td>\n",
       "      <td>Celia</td>\n",
       "      <td>Berge</td>\n",
       "      <td>25856254</td>\n",
       "      <td>Delaware</td>\n",
       "      <td>1</td>\n",
       "      <td>90443</td>\n",
       "    </tr>\n",
       "    <tr>\n",
       "      <th>4</th>\n",
       "      <td>30666</td>\n",
       "      <td>Marcelo</td>\n",
       "      <td>Torp</td>\n",
       "      <td>48393034</td>\n",
       "      <td>Massachusetts</td>\n",
       "      <td>3</td>\n",
       "      <td>91140</td>\n",
       "    </tr>\n",
       "  </tbody>\n",
       "</table>\n",
       "</div>"
      ],
      "text/plain": [
       "   employee id     name   lastname     phone          state  department id  \\\n",
       "0        38690    Heidi      Tromp  71957282   Rhode Island              4   \n",
       "1        22916   Alexus    D'Amore  14285155  New Hampshire              2   \n",
       "2        31692     Elsa  Halvorson  51955137          Maine              2   \n",
       "3        58847    Celia      Berge  25856254       Delaware              1   \n",
       "4        30666  Marcelo       Torp  48393034  Massachusetts              3   \n",
       "\n",
       "   yearly salary  \n",
       "0         207836  \n",
       "1          74110  \n",
       "2         137541  \n",
       "3          90443  \n",
       "4          91140  "
      ]
     },
     "execution_count": 225,
     "metadata": {},
     "output_type": "execute_result"
    }
   ],
   "source": [
    "df_q3 = pd.merge(df_emp, df_salary, how='left', on='employee id')\n",
    "df_q3.head()"
   ]
  },
  {
   "cell_type": "code",
   "execution_count": 232,
   "metadata": {},
   "outputs": [
    {
     "data": {
      "image/png": "[encoded data removed]",
      "text/plain": [
       "<Figure size 720x360 with 1 Axes>"
      ]
     },
     "metadata": {
      "needs_background": "light"
     },
     "output_type": "display_data"
    }
   ],
   "source": [
    "plt.figure(figsize=(10,5))\n",
    "\n",
    "sns.boxplot(x='state', y='yearly salary',data=df_q3)\n",
    "\n",
    "plt.title('Distribution of yearly salary across each state')\n",
    "plt.xticks(rotation=90)\n",
    "\n",
    "plt.show()"
   ]
  },
  {
   "cell_type": "markdown",
   "metadata": {},
   "source": [
    "#### 4. Visualize salary distribution of different departments"
   ]
  },
  {
   "cell_type": "code",
   "execution_count": 233,
   "metadata": {},
   "outputs": [
    {
     "data": {
      "text/html": [
       "<div>\n",
       "<style scoped>\n",
       "    .dataframe tbody tr th:only-of-type {\n",
       "        vertical-align: middle;\n",
       "    }\n",
       "\n",
       "    .dataframe tbody tr th {\n",
       "        vertical-align: top;\n",
       "    }\n",
       "\n",
       "    .dataframe thead th {\n",
       "        text-align: right;\n",
       "    }\n",
       "</style>\n",
       "<table border=\"1\" class=\"dataframe\">\n",
       "  <thead>\n",
       "    <tr style=\"text-align: right;\">\n",
       "      <th></th>\n",
       "      <th>employee id</th>\n",
       "      <th>name</th>\n",
       "      <th>lastname</th>\n",
       "      <th>phone</th>\n",
       "      <th>state</th>\n",
       "      <th>department id</th>\n",
       "      <th>yearly salary</th>\n",
       "      <th>department name</th>\n",
       "    </tr>\n",
       "  </thead>\n",
       "  <tbody>\n",
       "    <tr>\n",
       "      <th>0</th>\n",
       "      <td>38690</td>\n",
       "      <td>Heidi</td>\n",
       "      <td>Tromp</td>\n",
       "      <td>71957282</td>\n",
       "      <td>Rhode Island</td>\n",
       "      <td>4</td>\n",
       "      <td>207836</td>\n",
       "      <td>Sales</td>\n",
       "    </tr>\n",
       "    <tr>\n",
       "      <th>1</th>\n",
       "      <td>22916</td>\n",
       "      <td>Alexus</td>\n",
       "      <td>D'Amore</td>\n",
       "      <td>14285155</td>\n",
       "      <td>New Hampshire</td>\n",
       "      <td>2</td>\n",
       "      <td>74110</td>\n",
       "      <td>IT</td>\n",
       "    </tr>\n",
       "    <tr>\n",
       "      <th>2</th>\n",
       "      <td>31692</td>\n",
       "      <td>Elsa</td>\n",
       "      <td>Halvorson</td>\n",
       "      <td>51955137</td>\n",
       "      <td>Maine</td>\n",
       "      <td>2</td>\n",
       "      <td>137541</td>\n",
       "      <td>IT</td>\n",
       "    </tr>\n",
       "    <tr>\n",
       "      <th>3</th>\n",
       "      <td>58847</td>\n",
       "      <td>Celia</td>\n",
       "      <td>Berge</td>\n",
       "      <td>25856254</td>\n",
       "      <td>Delaware</td>\n",
       "      <td>1</td>\n",
       "      <td>90443</td>\n",
       "      <td>HR</td>\n",
       "    </tr>\n",
       "    <tr>\n",
       "      <th>4</th>\n",
       "      <td>30666</td>\n",
       "      <td>Marcelo</td>\n",
       "      <td>Torp</td>\n",
       "      <td>48393034</td>\n",
       "      <td>Massachusetts</td>\n",
       "      <td>3</td>\n",
       "      <td>91140</td>\n",
       "      <td>Finance</td>\n",
       "    </tr>\n",
       "  </tbody>\n",
       "</table>\n",
       "</div>"
      ],
      "text/plain": [
       "   employee id     name   lastname     phone          state  department id  \\\n",
       "0        38690    Heidi      Tromp  71957282   Rhode Island              4   \n",
       "1        22916   Alexus    D'Amore  14285155  New Hampshire              2   \n",
       "2        31692     Elsa  Halvorson  51955137          Maine              2   \n",
       "3        58847    Celia      Berge  25856254       Delaware              1   \n",
       "4        30666  Marcelo       Torp  48393034  Massachusetts              3   \n",
       "\n",
       "   yearly salary department name  \n",
       "0         207836           Sales  \n",
       "1          74110              IT  \n",
       "2         137541              IT  \n",
       "3          90443              HR  \n",
       "4          91140         Finance  "
      ]
     },
     "execution_count": 233,
     "metadata": {},
     "output_type": "execute_result"
    }
   ],
   "source": [
    "df_q41 = pd.merge(df_emp, df_salary, how='left', on='employee id')\n",
    "\n",
    "df_q4 = pd.merge(df_q41, df_dept, how='left', on='department id')\n",
    "df_q4.head()"
   ]
  },
  {
   "cell_type": "code",
   "execution_count": 235,
   "metadata": {},
   "outputs": [
    {
     "data": {
      "image/png": "[encoded data removed]",
      "text/plain": [
       "<Figure size 720x360 with 1 Axes>"
      ]
     },
     "metadata": {
      "needs_background": "light"
     },
     "output_type": "display_data"
    }
   ],
   "source": [
    "plt.figure(figsize=(10,5))\n",
    "\n",
    "sns.boxplot(x='department name', y='yearly salary',data=df_q4)\n",
    "\n",
    "plt.title('Distribution of yearly salary across each department')\n",
    "plt.xticks(rotation=90)\n",
    "\n",
    "plt.show()"
   ]
  },
  {
   "cell_type": "markdown",
   "metadata": {},
   "source": [
    "### Salary distribution as normal distribution"
   ]
  },
  {
   "cell_type": "code",
   "execution_count": 237,
   "metadata": {},
   "outputs": [
    {
     "data": {
      "text/plain": [
       "<AxesSubplot:xlabel='yearly salary', ylabel='Density'>"
      ]
     },
     "execution_count": 237,
     "metadata": {},
     "output_type": "execute_result"
    },
    {
     "data": {
      "image/png": "[encoded data removed]",
      "text/plain": [
       "<Figure size 432x288 with 1 Axes>"
      ]
     },
     "metadata": {
      "needs_background": "light"
     },
     "output_type": "display_data"
    }
   ],
   "source": [
    "sns.kdeplot(df_salary['yearly salary'])"
   ]
  },
  {
   "cell_type": "code",
   "execution_count": null,
   "metadata": {},
   "outputs": [],
   "source": [
    "## We can see a fair bell curve, hence our yearly salary is normally distributed "
   ]
  }
 ],
 "metadata": {
  "kernelspec": {
   "display_name": "Python 3 (ipykernel)",
   "language": "python",
   "name": "python3"
  },
  "language_info": {
   "codemirror_mode": {
    "name": "ipython",
    "version": 3
   },
   "file_extension": ".py",
   "mimetype": "text/x-python",
   "name": "python",
   "nbconvert_exporter": "python",
   "pygments_lexer": "ipython3",
   "version": "3.9.7"
  },
  "toc": {
   "base_numbering": 1,
   "nav_menu": {},
   "number_sections": true,
   "sideBar": true,
   "skip_h1_title": false,
   "title_cell": "Table of Contents",
   "title_sidebar": "Contents",
   "toc_cell": false,
   "toc_position": {},
   "toc_section_display": true,
   "toc_window_display": false
  },
  "varInspector": {
   "cols": {
    "lenName": 16,
    "lenType": 16,
    "lenVar": 40
   },
   "kernels_config": {
    "python": {
     "delete_cmd_postfix": "",
     "delete_cmd_prefix": "del ",
     "library": "var_list.py",
     "varRefreshCmd": "print(var_dic_list())"
    },
    "r": {
     "delete_cmd_postfix": ") ",
     "delete_cmd_prefix": "rm(",
     "library": "var_list.r",
     "varRefreshCmd": "cat(var_dic_list()) "
    }
   },
   "types_to_exclude": [
    "module",
    "function",
    "builtin_function_or_method",
    "instance",
    "_Feature"
   ],
   "window_display": false
  }
 },
 "nbformat": 4,
 "nbformat_minor": 2
}
