{
 "cells": [
  {
   "cell_type": "code",
   "execution_count": 1,
   "metadata": {},
   "outputs": [
    {
     "name": "stdout",
     "output_type": "stream",
     "text": [
      "Collecting browserhistory\n",
      "  Downloading browserhistory-0.1.2-py3-none-any.whl (5.1 kB)\n",
      "Installing collected packages: browserhistory\n",
      "Successfully installed browserhistory-0.1.2\n"
     ]
    }
   ],
   "source": [
    "!pip install browserhistory"
   ]
  },
  {
   "cell_type": "code",
   "execution_count": 2,
   "metadata": {},
   "outputs": [],
   "source": [
    "import browserhistory as bh"
   ]
  },
  {
   "cell_type": "code",
   "execution_count": 3,
   "metadata": {},
   "outputs": [
    {
     "name": "stdout",
     "output_type": "stream",
     "text": [
      "* Notification * \n",
      "Please Completely Close CHROME Window\n",
      "* Notification * \n",
      "Please Completely Close CHROME Window\n"
     ]
    }
   ],
   "source": [
    "dict_obj = bh.get_browserhistory()\n",
    "bh.write_browserhistory_csv()"
   ]
  },
  {
   "cell_type": "code",
   "execution_count": 4,
   "metadata": {},
   "outputs": [],
   "source": [
    "import pandas as pd"
   ]
  },
  {
   "cell_type": "code",
   "execution_count": 5,
   "metadata": {},
   "outputs": [],
   "source": [
    "df = pd.read_csv('browser_history.csv', header=None, names=['Site','Title', 'Time'])"
   ]
  },
  {
   "cell_type": "code",
   "execution_count": 6,
   "metadata": {},
   "outputs": [
    {
     "data": {
      "text/html": [
       "<div>\n",
       "<style scoped>\n",
       "    .dataframe tbody tr th:only-of-type {\n",
       "        vertical-align: middle;\n",
       "    }\n",
       "\n",
       "    .dataframe tbody tr th {\n",
       "        vertical-align: top;\n",
       "    }\n",
       "\n",
       "    .dataframe thead th {\n",
       "        text-align: right;\n",
       "    }\n",
       "</style>\n",
       "<table border=\"1\" class=\"dataframe\">\n",
       "  <thead>\n",
       "    <tr style=\"text-align: right;\">\n",
       "      <th></th>\n",
       "      <th>Site</th>\n",
       "      <th>Title</th>\n",
       "      <th>Time</th>\n",
       "    </tr>\n",
       "  </thead>\n",
       "  <tbody>\n",
       "    <tr>\n",
       "      <th>0</th>\n",
       "      <td>https://www.google.com/search?q=anaconda+pytho...</td>\n",
       "      <td></td>\n",
       "      <td>2022-02-07 22:24:04</td>\n",
       "    </tr>\n",
       "    <tr>\n",
       "      <th>1</th>\n",
       "      <td>https://www.google.com/search?q=anaconda+pytho...</td>\n",
       "      <td></td>\n",
       "      <td>2022-02-07 22:24:21</td>\n",
       "    </tr>\n",
       "    <tr>\n",
       "      <th>2</th>\n",
       "      <td>https://www.google.com/search?q=anaconda+pytho...</td>\n",
       "      <td></td>\n",
       "      <td>2022-02-07 22:24:36</td>\n",
       "    </tr>\n",
       "    <tr>\n",
       "      <th>3</th>\n",
       "      <td>https://www.google.com/search?q=anaconda+pytho...</td>\n",
       "      <td></td>\n",
       "      <td>2022-02-07 22:24:37</td>\n",
       "    </tr>\n",
       "    <tr>\n",
       "      <th>4</th>\n",
       "      <td>https://www.anaconda.com/products/individual</td>\n",
       "      <td></td>\n",
       "      <td>2022-02-07 22:24:44</td>\n",
       "    </tr>\n",
       "  </tbody>\n",
       "</table>\n",
       "</div>"
      ],
      "text/plain": [
       "                                                Site Title  \\\n",
       "0  https://www.google.com/search?q=anaconda+pytho...         \n",
       "1  https://www.google.com/search?q=anaconda+pytho...         \n",
       "2  https://www.google.com/search?q=anaconda+pytho...         \n",
       "3  https://www.google.com/search?q=anaconda+pytho...         \n",
       "4       https://www.anaconda.com/products/individual         \n",
       "\n",
       "                  Time  \n",
       "0  2022-02-07 22:24:04  \n",
       "1  2022-02-07 22:24:21  \n",
       "2  2022-02-07 22:24:36  \n",
       "3  2022-02-07 22:24:37  \n",
       "4  2022-02-07 22:24:44  "
      ]
     },
     "execution_count": 6,
     "metadata": {},
     "output_type": "execute_result"
    }
   ],
   "source": [
    "df.head()"
   ]
  },
  {
   "cell_type": "code",
   "execution_count": 7,
   "metadata": {},
   "outputs": [
    {
     "data": {
      "text/html": [
       "<div>\n",
       "<style scoped>\n",
       "    .dataframe tbody tr th:only-of-type {\n",
       "        vertical-align: middle;\n",
       "    }\n",
       "\n",
       "    .dataframe tbody tr th {\n",
       "        vertical-align: top;\n",
       "    }\n",
       "\n",
       "    .dataframe thead th {\n",
       "        text-align: right;\n",
       "    }\n",
       "</style>\n",
       "<table border=\"1\" class=\"dataframe\">\n",
       "  <thead>\n",
       "    <tr style=\"text-align: right;\">\n",
       "      <th></th>\n",
       "      <th>Site</th>\n",
       "      <th>Title</th>\n",
       "      <th>Time</th>\n",
       "    </tr>\n",
       "  </thead>\n",
       "  <tbody>\n",
       "    <tr>\n",
       "      <th>2791</th>\n",
       "      <td>https://github.com/msaricaumbc/DS601_Spring22/...</td>\n",
       "      <td></td>\n",
       "      <td>2022-04-16 00:06:59</td>\n",
       "    </tr>\n",
       "    <tr>\n",
       "      <th>2792</th>\n",
       "      <td>https://github.com/msaricaumbc/DS601_Spring22/...</td>\n",
       "      <td></td>\n",
       "      <td>2022-04-16 00:10:55</td>\n",
       "    </tr>\n",
       "    <tr>\n",
       "      <th>2793</th>\n",
       "      <td>https://github.com/msaricaumbc/DS601_Spring22/...</td>\n",
       "      <td></td>\n",
       "      <td>2022-04-16 00:10:56</td>\n",
       "    </tr>\n",
       "    <tr>\n",
       "      <th>2794</th>\n",
       "      <td>https://github.com/msaricaumbc/DS601_Spring22/...</td>\n",
       "      <td></td>\n",
       "      <td>2022-04-16 00:13:53</td>\n",
       "    </tr>\n",
       "    <tr>\n",
       "      <th>2795</th>\n",
       "      <td>https://github.com/msaricaumbc/DS601_Spring22/...</td>\n",
       "      <td></td>\n",
       "      <td>2022-04-16 00:15:16</td>\n",
       "    </tr>\n",
       "  </tbody>\n",
       "</table>\n",
       "</div>"
      ],
      "text/plain": [
       "                                                   Site Title  \\\n",
       "2791  https://github.com/msaricaumbc/DS601_Spring22/...         \n",
       "2792  https://github.com/msaricaumbc/DS601_Spring22/...         \n",
       "2793  https://github.com/msaricaumbc/DS601_Spring22/...         \n",
       "2794  https://github.com/msaricaumbc/DS601_Spring22/...         \n",
       "2795  https://github.com/msaricaumbc/DS601_Spring22/...         \n",
       "\n",
       "                     Time  \n",
       "2791  2022-04-16 00:06:59  \n",
       "2792  2022-04-16 00:10:55  \n",
       "2793  2022-04-16 00:10:56  \n",
       "2794  2022-04-16 00:13:53  \n",
       "2795  2022-04-16 00:15:16  "
      ]
     },
     "execution_count": 7,
     "metadata": {},
     "output_type": "execute_result"
    }
   ],
   "source": [
    "df.tail()"
   ]
  },
  {
   "cell_type": "code",
   "execution_count": 8,
   "metadata": {},
   "outputs": [
    {
     "data": {
      "text/plain": [
       "Site     0\n",
       "Title    0\n",
       "Time     0\n",
       "dtype: int64"
      ]
     },
     "execution_count": 8,
     "metadata": {},
     "output_type": "execute_result"
    }
   ],
   "source": [
    "df.isna().sum()"
   ]
  },
  {
   "cell_type": "code",
   "execution_count": 9,
   "metadata": {},
   "outputs": [
    {
     "name": "stdout",
     "output_type": "stream",
     "text": [
      "www.example.test\n",
      "www.test.com.eu\n"
     ]
    }
   ],
   "source": [
    "from urllib.parse import urlparse\n",
    "\n",
    "print(urlparse('http://www.example.test/foo/bar').netloc) # --> www.example.test\n",
    "print(urlparse('http://www.test.com.eu/ters').netloc) # --> www.example.test"
   ]
  },
  {
   "cell_type": "code",
   "execution_count": 10,
   "metadata": {},
   "outputs": [],
   "source": [
    "def get_domain(url):\n",
    "    domain = urlparse(url).netloc\n",
    "    \n",
    "    if domain == '':\n",
    "        return None\n",
    "\n",
    "    return domain\n",
    "        "
   ]
  },
  {
   "cell_type": "code",
   "execution_count": 11,
   "metadata": {},
   "outputs": [],
   "source": [
    "df['domain'] = [ get_domain(s)  for s in df['Site'] ]"
   ]
  },
  {
   "cell_type": "code",
   "execution_count": 12,
   "metadata": {
    "scrolled": false
   },
   "outputs": [],
   "source": [
    "df.drop('Site', axis=1, inplace=True) # drop Site column & update the current df object\n",
    "df.drop('Title', axis=1, inplace=True) # drop Site column & update the current df object"
   ]
  },
  {
   "cell_type": "code",
   "execution_count": 13,
   "metadata": {},
   "outputs": [
    {
     "data": {
      "text/plain": [
       "Time       0\n",
       "domain    23\n",
       "dtype: int64"
      ]
     },
     "execution_count": 13,
     "metadata": {},
     "output_type": "execute_result"
    }
   ],
   "source": [
    "df.isna().sum()"
   ]
  },
  {
   "cell_type": "code",
   "execution_count": 14,
   "metadata": {},
   "outputs": [],
   "source": [
    "df.dropna(inplace=True)"
   ]
  },
  {
   "cell_type": "code",
   "execution_count": 15,
   "metadata": {},
   "outputs": [
    {
     "data": {
      "text/html": [
       "<div>\n",
       "<style scoped>\n",
       "    .dataframe tbody tr th:only-of-type {\n",
       "        vertical-align: middle;\n",
       "    }\n",
       "\n",
       "    .dataframe tbody tr th {\n",
       "        vertical-align: top;\n",
       "    }\n",
       "\n",
       "    .dataframe thead th {\n",
       "        text-align: right;\n",
       "    }\n",
       "</style>\n",
       "<table border=\"1\" class=\"dataframe\">\n",
       "  <thead>\n",
       "    <tr style=\"text-align: right;\">\n",
       "      <th></th>\n",
       "      <th>Time</th>\n",
       "      <th>domain</th>\n",
       "    </tr>\n",
       "  </thead>\n",
       "  <tbody>\n",
       "    <tr>\n",
       "      <th>0</th>\n",
       "      <td>2022-02-07 22:24:04</td>\n",
       "      <td>www.google.com</td>\n",
       "    </tr>\n",
       "    <tr>\n",
       "      <th>1</th>\n",
       "      <td>2022-02-07 22:24:21</td>\n",
       "      <td>www.google.com</td>\n",
       "    </tr>\n",
       "    <tr>\n",
       "      <th>2</th>\n",
       "      <td>2022-02-07 22:24:36</td>\n",
       "      <td>www.google.com</td>\n",
       "    </tr>\n",
       "    <tr>\n",
       "      <th>3</th>\n",
       "      <td>2022-02-07 22:24:37</td>\n",
       "      <td>www.google.com</td>\n",
       "    </tr>\n",
       "    <tr>\n",
       "      <th>4</th>\n",
       "      <td>2022-02-07 22:24:44</td>\n",
       "      <td>www.anaconda.com</td>\n",
       "    </tr>\n",
       "  </tbody>\n",
       "</table>\n",
       "</div>"
      ],
      "text/plain": [
       "                  Time            domain\n",
       "0  2022-02-07 22:24:04    www.google.com\n",
       "1  2022-02-07 22:24:21    www.google.com\n",
       "2  2022-02-07 22:24:36    www.google.com\n",
       "3  2022-02-07 22:24:37    www.google.com\n",
       "4  2022-02-07 22:24:44  www.anaconda.com"
      ]
     },
     "execution_count": 15,
     "metadata": {},
     "output_type": "execute_result"
    }
   ],
   "source": [
    "df.head()"
   ]
  },
  {
   "cell_type": "code",
   "execution_count": 16,
   "metadata": {},
   "outputs": [
    {
     "data": {
      "text/html": [
       "<div>\n",
       "<style scoped>\n",
       "    .dataframe tbody tr th:only-of-type {\n",
       "        vertical-align: middle;\n",
       "    }\n",
       "\n",
       "    .dataframe tbody tr th {\n",
       "        vertical-align: top;\n",
       "    }\n",
       "\n",
       "    .dataframe thead th {\n",
       "        text-align: right;\n",
       "    }\n",
       "</style>\n",
       "<table border=\"1\" class=\"dataframe\">\n",
       "  <thead>\n",
       "    <tr style=\"text-align: right;\">\n",
       "      <th></th>\n",
       "      <th>Time</th>\n",
       "      <th>domain</th>\n",
       "    </tr>\n",
       "  </thead>\n",
       "  <tbody>\n",
       "    <tr>\n",
       "      <th>0</th>\n",
       "      <td>2022-02-07 22:24:04</td>\n",
       "      <td>www.google.com</td>\n",
       "    </tr>\n",
       "    <tr>\n",
       "      <th>1</th>\n",
       "      <td>2022-02-07 22:24:21</td>\n",
       "      <td>www.google.com</td>\n",
       "    </tr>\n",
       "    <tr>\n",
       "      <th>2</th>\n",
       "      <td>2022-02-07 22:24:36</td>\n",
       "      <td>www.google.com</td>\n",
       "    </tr>\n",
       "    <tr>\n",
       "      <th>3</th>\n",
       "      <td>2022-02-07 22:24:37</td>\n",
       "      <td>www.google.com</td>\n",
       "    </tr>\n",
       "    <tr>\n",
       "      <th>4</th>\n",
       "      <td>2022-02-07 22:24:44</td>\n",
       "      <td>www.anaconda.com</td>\n",
       "    </tr>\n",
       "    <tr>\n",
       "      <th>...</th>\n",
       "      <td>...</td>\n",
       "      <td>...</td>\n",
       "    </tr>\n",
       "    <tr>\n",
       "      <th>2791</th>\n",
       "      <td>2022-04-16 00:06:59</td>\n",
       "      <td>github.com</td>\n",
       "    </tr>\n",
       "    <tr>\n",
       "      <th>2792</th>\n",
       "      <td>2022-04-16 00:10:55</td>\n",
       "      <td>github.com</td>\n",
       "    </tr>\n",
       "    <tr>\n",
       "      <th>2793</th>\n",
       "      <td>2022-04-16 00:10:56</td>\n",
       "      <td>github.com</td>\n",
       "    </tr>\n",
       "    <tr>\n",
       "      <th>2794</th>\n",
       "      <td>2022-04-16 00:13:53</td>\n",
       "      <td>github.com</td>\n",
       "    </tr>\n",
       "    <tr>\n",
       "      <th>2795</th>\n",
       "      <td>2022-04-16 00:15:16</td>\n",
       "      <td>github.com</td>\n",
       "    </tr>\n",
       "  </tbody>\n",
       "</table>\n",
       "<p>2773 rows × 2 columns</p>\n",
       "</div>"
      ],
      "text/plain": [
       "                     Time            domain\n",
       "0     2022-02-07 22:24:04    www.google.com\n",
       "1     2022-02-07 22:24:21    www.google.com\n",
       "2     2022-02-07 22:24:36    www.google.com\n",
       "3     2022-02-07 22:24:37    www.google.com\n",
       "4     2022-02-07 22:24:44  www.anaconda.com\n",
       "...                   ...               ...\n",
       "2791  2022-04-16 00:06:59        github.com\n",
       "2792  2022-04-16 00:10:55        github.com\n",
       "2793  2022-04-16 00:10:56        github.com\n",
       "2794  2022-04-16 00:13:53        github.com\n",
       "2795  2022-04-16 00:15:16        github.com\n",
       "\n",
       "[2773 rows x 2 columns]"
      ]
     },
     "execution_count": 16,
     "metadata": {},
     "output_type": "execute_result"
    }
   ],
   "source": [
    "# clean data if you need to!!!!! \n",
    "def check(x):\n",
    "    # if True it will include\n",
    "    return True\n",
    "\n",
    "df_clean = df[[ check(x) for x in df.domain]]\n",
    "df_clean"
   ]
  },
  {
   "cell_type": "code",
   "execution_count": 17,
   "metadata": {},
   "outputs": [],
   "source": [
    "# write to csv with a different name\n",
    "\n",
    "df_clean.to_csv('history_cleaned.csv', index=False)"
   ]
  },
  {
   "cell_type": "markdown",
   "metadata": {},
   "source": [
    "## DO NOT COMMIT THIS NOTEBOOK or `chrome_history.csv` !!!"
   ]
  },
  {
   "cell_type": "code",
   "execution_count": null,
   "metadata": {},
   "outputs": [],
   "source": []
  }
 ],
 "metadata": {
  "kernelspec": {
   "display_name": "Python 3 (ipykernel)",
   "language": "python",
   "name": "python3"
  },
  "language_info": {
   "codemirror_mode": {
    "name": "ipython",
    "version": 3
   },
   "file_extension": ".py",
   "mimetype": "text/x-python",
   "name": "python",
   "nbconvert_exporter": "python",
   "pygments_lexer": "ipython3",
   "version": "3.9.7"
  },
  "toc": {
   "base_numbering": 1,
   "nav_menu": {},
   "number_sections": true,
   "sideBar": true,
   "skip_h1_title": false,
   "title_cell": "Table of Contents",
   "title_sidebar": "Contents",
   "toc_cell": false,
   "toc_position": {},
   "toc_section_display": true,
   "toc_window_display": false
  },
  "varInspector": {
   "cols": {
    "lenName": 16,
    "lenType": 16,
    "lenVar": 40
   },
   "kernels_config": {
    "python": {
     "delete_cmd_postfix": "",
     "delete_cmd_prefix": "del ",
     "library": "var_list.py",
     "varRefreshCmd": "print(var_dic_list())"
    },
    "r": {
     "delete_cmd_postfix": ") ",
     "delete_cmd_prefix": "rm(",
     "library": "var_list.r",
     "varRefreshCmd": "cat(var_dic_list()) "
    }
   },
   "types_to_exclude": [
    "module",
    "function",
    "builtin_function_or_method",
    "instance",
    "_Feature"
   ],
   "window_display": false
  }
 },
 "nbformat": 4,
 "nbformat_minor": 2
}
